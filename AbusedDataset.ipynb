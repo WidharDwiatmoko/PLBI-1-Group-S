{
 "cells": [
  {
   "cell_type": "code",
   "execution_count": 1,
   "outputs": [],
   "source": [
    "import pandas as pd\n",
    "import numpy as np"
   ],
   "metadata": {
    "collapsed": false,
    "pycharm": {
     "name": "#%%\n"
    }
   }
  },
  {
   "cell_type": "code",
   "execution_count": 2,
   "outputs": [
    {
     "data": {
      "text/plain": "   id  kode_provinsi nama_provinsi  kode_kabupaten_kota nama_kabupaten_kota  \\\n0   1             32    JAWA BARAT                 3201     KABUPATEN BOGOR   \n1   2             32    JAWA BARAT                 3201     KABUPATEN BOGOR   \n2   3             32    JAWA BARAT                 3202  KABUPATEN SUKABUMI   \n3   4             32    JAWA BARAT                 3202  KABUPATEN SUKABUMI   \n4   5             32    JAWA BARAT                 3203   KABUPATEN CIANJUR   \n\n  jenis_kelamin  jumlah_korban  satuan  tahun  \n0     LAKI-LAKI              0  KORBAN   2018  \n1     PEREMPUAN              1  KORBAN   2018  \n2     LAKI-LAKI              1  KORBAN   2018  \n3     PEREMPUAN              9  KORBAN   2018  \n4     LAKI-LAKI              1  KORBAN   2018  ",
      "text/html": "<div>\n<style scoped>\n    .dataframe tbody tr th:only-of-type {\n        vertical-align: middle;\n    }\n\n    .dataframe tbody tr th {\n        vertical-align: top;\n    }\n\n    .dataframe thead th {\n        text-align: right;\n    }\n</style>\n<table border=\"1\" class=\"dataframe\">\n  <thead>\n    <tr style=\"text-align: right;\">\n      <th></th>\n      <th>id</th>\n      <th>kode_provinsi</th>\n      <th>nama_provinsi</th>\n      <th>kode_kabupaten_kota</th>\n      <th>nama_kabupaten_kota</th>\n      <th>jenis_kelamin</th>\n      <th>jumlah_korban</th>\n      <th>satuan</th>\n      <th>tahun</th>\n    </tr>\n  </thead>\n  <tbody>\n    <tr>\n      <th>0</th>\n      <td>1</td>\n      <td>32</td>\n      <td>JAWA BARAT</td>\n      <td>3201</td>\n      <td>KABUPATEN BOGOR</td>\n      <td>LAKI-LAKI</td>\n      <td>0</td>\n      <td>KORBAN</td>\n      <td>2018</td>\n    </tr>\n    <tr>\n      <th>1</th>\n      <td>2</td>\n      <td>32</td>\n      <td>JAWA BARAT</td>\n      <td>3201</td>\n      <td>KABUPATEN BOGOR</td>\n      <td>PEREMPUAN</td>\n      <td>1</td>\n      <td>KORBAN</td>\n      <td>2018</td>\n    </tr>\n    <tr>\n      <th>2</th>\n      <td>3</td>\n      <td>32</td>\n      <td>JAWA BARAT</td>\n      <td>3202</td>\n      <td>KABUPATEN SUKABUMI</td>\n      <td>LAKI-LAKI</td>\n      <td>1</td>\n      <td>KORBAN</td>\n      <td>2018</td>\n    </tr>\n    <tr>\n      <th>3</th>\n      <td>4</td>\n      <td>32</td>\n      <td>JAWA BARAT</td>\n      <td>3202</td>\n      <td>KABUPATEN SUKABUMI</td>\n      <td>PEREMPUAN</td>\n      <td>9</td>\n      <td>KORBAN</td>\n      <td>2018</td>\n    </tr>\n    <tr>\n      <th>4</th>\n      <td>5</td>\n      <td>32</td>\n      <td>JAWA BARAT</td>\n      <td>3203</td>\n      <td>KABUPATEN CIANJUR</td>\n      <td>LAKI-LAKI</td>\n      <td>1</td>\n      <td>KORBAN</td>\n      <td>2018</td>\n    </tr>\n  </tbody>\n</table>\n</div>"
     },
     "execution_count": 2,
     "metadata": {},
     "output_type": "execute_result"
    }
   ],
   "source": [
    "gender_family_abuse = pd.read_csv('Raw Data/family_abuse_based_on_gender.csv')\n",
    "gender_family_abuse.head()"
   ],
   "metadata": {
    "collapsed": false,
    "pycharm": {
     "name": "#%%\n"
    }
   }
  },
  {
   "cell_type": "code",
   "execution_count": 3,
   "outputs": [],
   "source": [
    "education_family_abuse = pd.read_csv(\"Raw Data/family_abused_by_education.csv\")"
   ],
   "metadata": {
    "collapsed": false,
    "pycharm": {
     "name": "#%%\n"
    }
   }
  },
  {
   "cell_type": "code",
   "execution_count": 4,
   "outputs": [],
   "source": [
    "education_family_abuse[\"kategori_pendidikan\"] = education_family_abuse[\"kategori_pendidikan\"].str.replace(\"\\n\",\"\")"
   ],
   "metadata": {
    "collapsed": false,
    "pycharm": {
     "name": "#%%\n"
    }
   }
  },
  {
   "cell_type": "code",
   "execution_count": 5,
   "outputs": [
    {
     "data": {
      "text/plain": "        id  kode_provinsi nama_provinsi  kode_kabupaten_kota  \\\n0        1             32    JAWA BARAT                 3201   \n1        2             32    JAWA BARAT                 3201   \n2        3             32    JAWA BARAT                 3201   \n3        4             32    JAWA BARAT                 3201   \n4        5             32    JAWA BARAT                 3201   \n...    ...            ...           ...                  ...   \n1723  1724             32    JAWA BARAT                 3279   \n1724  1725             32    JAWA BARAT                 3279   \n1725  1726             32    JAWA BARAT                 3279   \n1726  1727             32    JAWA BARAT                 3279   \n1727  1728             32    JAWA BARAT                 3279   \n\n     nama_kabupaten_kota jenis_kelamin kategori_pendidikan  jumlah  satuan  \\\n0        KABUPATEN BOGOR     LAKI-LAKI                 NaN       0  KORBAN   \n1        KABUPATEN BOGOR     LAKI-LAKI       TIDAK SEKOLAH       0  KORBAN   \n2        KABUPATEN BOGOR     LAKI-LAKI                  SD       0  KORBAN   \n3        KABUPATEN BOGOR     LAKI-LAKI                SLTP       0  KORBAN   \n4        KABUPATEN BOGOR     LAKI-LAKI                SLTA       0  KORBAN   \n...                  ...           ...                 ...     ...     ...   \n1723         KOTA BANJAR     PEREMPUAN                SLTP       0  KORBAN   \n1724         KOTA BANJAR     PEREMPUAN                SLTA       0  KORBAN   \n1725         KOTA BANJAR     PEREMPUAN    PERGURUAN TINGGI       0  KORBAN   \n1726         KOTA BANJAR     PEREMPUAN                  TK       1  KORBAN   \n1727         KOTA BANJAR     PEREMPUAN                PAUD       0  KORBAN   \n\n      tahun  \n0      2018  \n1      2018  \n2      2018  \n3      2018  \n4      2018  \n...     ...  \n1723   2021  \n1724   2021  \n1725   2021  \n1726   2021  \n1727   2021  \n\n[1728 rows x 10 columns]",
      "text/html": "<div>\n<style scoped>\n    .dataframe tbody tr th:only-of-type {\n        vertical-align: middle;\n    }\n\n    .dataframe tbody tr th {\n        vertical-align: top;\n    }\n\n    .dataframe thead th {\n        text-align: right;\n    }\n</style>\n<table border=\"1\" class=\"dataframe\">\n  <thead>\n    <tr style=\"text-align: right;\">\n      <th></th>\n      <th>id</th>\n      <th>kode_provinsi</th>\n      <th>nama_provinsi</th>\n      <th>kode_kabupaten_kota</th>\n      <th>nama_kabupaten_kota</th>\n      <th>jenis_kelamin</th>\n      <th>kategori_pendidikan</th>\n      <th>jumlah</th>\n      <th>satuan</th>\n      <th>tahun</th>\n    </tr>\n  </thead>\n  <tbody>\n    <tr>\n      <th>0</th>\n      <td>1</td>\n      <td>32</td>\n      <td>JAWA BARAT</td>\n      <td>3201</td>\n      <td>KABUPATEN BOGOR</td>\n      <td>LAKI-LAKI</td>\n      <td>NaN</td>\n      <td>0</td>\n      <td>KORBAN</td>\n      <td>2018</td>\n    </tr>\n    <tr>\n      <th>1</th>\n      <td>2</td>\n      <td>32</td>\n      <td>JAWA BARAT</td>\n      <td>3201</td>\n      <td>KABUPATEN BOGOR</td>\n      <td>LAKI-LAKI</td>\n      <td>TIDAK SEKOLAH</td>\n      <td>0</td>\n      <td>KORBAN</td>\n      <td>2018</td>\n    </tr>\n    <tr>\n      <th>2</th>\n      <td>3</td>\n      <td>32</td>\n      <td>JAWA BARAT</td>\n      <td>3201</td>\n      <td>KABUPATEN BOGOR</td>\n      <td>LAKI-LAKI</td>\n      <td>SD</td>\n      <td>0</td>\n      <td>KORBAN</td>\n      <td>2018</td>\n    </tr>\n    <tr>\n      <th>3</th>\n      <td>4</td>\n      <td>32</td>\n      <td>JAWA BARAT</td>\n      <td>3201</td>\n      <td>KABUPATEN BOGOR</td>\n      <td>LAKI-LAKI</td>\n      <td>SLTP</td>\n      <td>0</td>\n      <td>KORBAN</td>\n      <td>2018</td>\n    </tr>\n    <tr>\n      <th>4</th>\n      <td>5</td>\n      <td>32</td>\n      <td>JAWA BARAT</td>\n      <td>3201</td>\n      <td>KABUPATEN BOGOR</td>\n      <td>LAKI-LAKI</td>\n      <td>SLTA</td>\n      <td>0</td>\n      <td>KORBAN</td>\n      <td>2018</td>\n    </tr>\n    <tr>\n      <th>...</th>\n      <td>...</td>\n      <td>...</td>\n      <td>...</td>\n      <td>...</td>\n      <td>...</td>\n      <td>...</td>\n      <td>...</td>\n      <td>...</td>\n      <td>...</td>\n      <td>...</td>\n    </tr>\n    <tr>\n      <th>1723</th>\n      <td>1724</td>\n      <td>32</td>\n      <td>JAWA BARAT</td>\n      <td>3279</td>\n      <td>KOTA BANJAR</td>\n      <td>PEREMPUAN</td>\n      <td>SLTP</td>\n      <td>0</td>\n      <td>KORBAN</td>\n      <td>2021</td>\n    </tr>\n    <tr>\n      <th>1724</th>\n      <td>1725</td>\n      <td>32</td>\n      <td>JAWA BARAT</td>\n      <td>3279</td>\n      <td>KOTA BANJAR</td>\n      <td>PEREMPUAN</td>\n      <td>SLTA</td>\n      <td>0</td>\n      <td>KORBAN</td>\n      <td>2021</td>\n    </tr>\n    <tr>\n      <th>1725</th>\n      <td>1726</td>\n      <td>32</td>\n      <td>JAWA BARAT</td>\n      <td>3279</td>\n      <td>KOTA BANJAR</td>\n      <td>PEREMPUAN</td>\n      <td>PERGURUAN TINGGI</td>\n      <td>0</td>\n      <td>KORBAN</td>\n      <td>2021</td>\n    </tr>\n    <tr>\n      <th>1726</th>\n      <td>1727</td>\n      <td>32</td>\n      <td>JAWA BARAT</td>\n      <td>3279</td>\n      <td>KOTA BANJAR</td>\n      <td>PEREMPUAN</td>\n      <td>TK</td>\n      <td>1</td>\n      <td>KORBAN</td>\n      <td>2021</td>\n    </tr>\n    <tr>\n      <th>1727</th>\n      <td>1728</td>\n      <td>32</td>\n      <td>JAWA BARAT</td>\n      <td>3279</td>\n      <td>KOTA BANJAR</td>\n      <td>PEREMPUAN</td>\n      <td>PAUD</td>\n      <td>0</td>\n      <td>KORBAN</td>\n      <td>2021</td>\n    </tr>\n  </tbody>\n</table>\n<p>1728 rows × 10 columns</p>\n</div>"
     },
     "execution_count": 5,
     "metadata": {},
     "output_type": "execute_result"
    }
   ],
   "source": [
    "education_family_abuse"
   ],
   "metadata": {
    "collapsed": false,
    "pycharm": {
     "name": "#%%\n"
    }
   }
  },
  {
   "cell_type": "code",
   "execution_count": 6,
   "outputs": [],
   "source": [
    "education_family_abuse.drop(columns=['id','kode_provinsi','nama_provinsi','satuan'], inplace=True)\n",
    "# gender_family_abuse"
   ],
   "metadata": {
    "collapsed": false,
    "pycharm": {
     "name": "#%%\n"
    }
   }
  },
  {
   "cell_type": "code",
   "execution_count": 7,
   "outputs": [
    {
     "data": {
      "text/plain": "   kode_kabupaten_kota nama_kabupaten_kota jenis_kelamin kategori_pendidikan  \\\n0                 3201     KABUPATEN BOGOR     LAKI-LAKI                 NaN   \n1                 3201     KABUPATEN BOGOR     LAKI-LAKI       TIDAK SEKOLAH   \n2                 3201     KABUPATEN BOGOR     LAKI-LAKI                  SD   \n3                 3201     KABUPATEN BOGOR     LAKI-LAKI                SLTP   \n4                 3201     KABUPATEN BOGOR     LAKI-LAKI                SLTA   \n\n   jumlah  tahun  \n0       0   2018  \n1       0   2018  \n2       0   2018  \n3       0   2018  \n4       0   2018  ",
      "text/html": "<div>\n<style scoped>\n    .dataframe tbody tr th:only-of-type {\n        vertical-align: middle;\n    }\n\n    .dataframe tbody tr th {\n        vertical-align: top;\n    }\n\n    .dataframe thead th {\n        text-align: right;\n    }\n</style>\n<table border=\"1\" class=\"dataframe\">\n  <thead>\n    <tr style=\"text-align: right;\">\n      <th></th>\n      <th>kode_kabupaten_kota</th>\n      <th>nama_kabupaten_kota</th>\n      <th>jenis_kelamin</th>\n      <th>kategori_pendidikan</th>\n      <th>jumlah</th>\n      <th>tahun</th>\n    </tr>\n  </thead>\n  <tbody>\n    <tr>\n      <th>0</th>\n      <td>3201</td>\n      <td>KABUPATEN BOGOR</td>\n      <td>LAKI-LAKI</td>\n      <td>NaN</td>\n      <td>0</td>\n      <td>2018</td>\n    </tr>\n    <tr>\n      <th>1</th>\n      <td>3201</td>\n      <td>KABUPATEN BOGOR</td>\n      <td>LAKI-LAKI</td>\n      <td>TIDAK SEKOLAH</td>\n      <td>0</td>\n      <td>2018</td>\n    </tr>\n    <tr>\n      <th>2</th>\n      <td>3201</td>\n      <td>KABUPATEN BOGOR</td>\n      <td>LAKI-LAKI</td>\n      <td>SD</td>\n      <td>0</td>\n      <td>2018</td>\n    </tr>\n    <tr>\n      <th>3</th>\n      <td>3201</td>\n      <td>KABUPATEN BOGOR</td>\n      <td>LAKI-LAKI</td>\n      <td>SLTP</td>\n      <td>0</td>\n      <td>2018</td>\n    </tr>\n    <tr>\n      <th>4</th>\n      <td>3201</td>\n      <td>KABUPATEN BOGOR</td>\n      <td>LAKI-LAKI</td>\n      <td>SLTA</td>\n      <td>0</td>\n      <td>2018</td>\n    </tr>\n  </tbody>\n</table>\n</div>"
     },
     "execution_count": 7,
     "metadata": {},
     "output_type": "execute_result"
    }
   ],
   "source": [
    "education_family_abuse.head()"
   ],
   "metadata": {
    "collapsed": false,
    "pycharm": {
     "name": "#%%\n"
    }
   }
  },
  {
   "cell_type": "code",
   "execution_count": 8,
   "outputs": [],
   "source": [
    "gender_family_abuse.drop(columns=['id','kode_provinsi','nama_provinsi','satuan'], inplace=True)"
   ],
   "metadata": {
    "collapsed": false,
    "pycharm": {
     "name": "#%%\n"
    }
   }
  },
  {
   "cell_type": "code",
   "execution_count": 9,
   "outputs": [
    {
     "data": {
      "text/plain": "   kode_kabupaten_kota nama_kabupaten_kota jenis_kelamin  jumlah_korban  tahun\n0                 3201     KABUPATEN BOGOR     LAKI-LAKI              0   2018\n1                 3201     KABUPATEN BOGOR     PEREMPUAN              1   2018\n2                 3202  KABUPATEN SUKABUMI     LAKI-LAKI              1   2018\n3                 3202  KABUPATEN SUKABUMI     PEREMPUAN              9   2018\n4                 3203   KABUPATEN CIANJUR     LAKI-LAKI              1   2018",
      "text/html": "<div>\n<style scoped>\n    .dataframe tbody tr th:only-of-type {\n        vertical-align: middle;\n    }\n\n    .dataframe tbody tr th {\n        vertical-align: top;\n    }\n\n    .dataframe thead th {\n        text-align: right;\n    }\n</style>\n<table border=\"1\" class=\"dataframe\">\n  <thead>\n    <tr style=\"text-align: right;\">\n      <th></th>\n      <th>kode_kabupaten_kota</th>\n      <th>nama_kabupaten_kota</th>\n      <th>jenis_kelamin</th>\n      <th>jumlah_korban</th>\n      <th>tahun</th>\n    </tr>\n  </thead>\n  <tbody>\n    <tr>\n      <th>0</th>\n      <td>3201</td>\n      <td>KABUPATEN BOGOR</td>\n      <td>LAKI-LAKI</td>\n      <td>0</td>\n      <td>2018</td>\n    </tr>\n    <tr>\n      <th>1</th>\n      <td>3201</td>\n      <td>KABUPATEN BOGOR</td>\n      <td>PEREMPUAN</td>\n      <td>1</td>\n      <td>2018</td>\n    </tr>\n    <tr>\n      <th>2</th>\n      <td>3202</td>\n      <td>KABUPATEN SUKABUMI</td>\n      <td>LAKI-LAKI</td>\n      <td>1</td>\n      <td>2018</td>\n    </tr>\n    <tr>\n      <th>3</th>\n      <td>3202</td>\n      <td>KABUPATEN SUKABUMI</td>\n      <td>PEREMPUAN</td>\n      <td>9</td>\n      <td>2018</td>\n    </tr>\n    <tr>\n      <th>4</th>\n      <td>3203</td>\n      <td>KABUPATEN CIANJUR</td>\n      <td>LAKI-LAKI</td>\n      <td>1</td>\n      <td>2018</td>\n    </tr>\n  </tbody>\n</table>\n</div>"
     },
     "execution_count": 9,
     "metadata": {},
     "output_type": "execute_result"
    }
   ],
   "source": [
    "gender_family_abuse.head()"
   ],
   "metadata": {
    "collapsed": false,
    "pycharm": {
     "name": "#%%\n"
    }
   }
  },
  {
   "cell_type": "code",
   "execution_count": 10,
   "outputs": [
    {
     "name": "stdout",
     "output_type": "stream",
     "text": [
      "<class 'pandas.core.frame.DataFrame'>\n",
      "RangeIndex: 216 entries, 0 to 215\n",
      "Data columns (total 5 columns):\n",
      " #   Column               Non-Null Count  Dtype \n",
      "---  ------               --------------  ----- \n",
      " 0   kode_kabupaten_kota  216 non-null    int64 \n",
      " 1   nama_kabupaten_kota  216 non-null    object\n",
      " 2   jenis_kelamin        216 non-null    object\n",
      " 3   jumlah_korban        216 non-null    int64 \n",
      " 4   tahun                216 non-null    int64 \n",
      "dtypes: int64(3), object(2)\n",
      "memory usage: 8.6+ KB\n"
     ]
    }
   ],
   "source": [
    "gender_family_abuse.info()"
   ],
   "metadata": {
    "collapsed": false,
    "pycharm": {
     "name": "#%%\n"
    }
   }
  },
  {
   "cell_type": "code",
   "execution_count": 11,
   "outputs": [
    {
     "name": "stdout",
     "output_type": "stream",
     "text": [
      "<class 'pandas.core.frame.DataFrame'>\n",
      "RangeIndex: 1728 entries, 0 to 1727\n",
      "Data columns (total 6 columns):\n",
      " #   Column               Non-Null Count  Dtype \n",
      "---  ------               --------------  ----- \n",
      " 0   kode_kabupaten_kota  1728 non-null   int64 \n",
      " 1   nama_kabupaten_kota  1728 non-null   object\n",
      " 2   jenis_kelamin        1728 non-null   object\n",
      " 3   kategori_pendidikan  1512 non-null   object\n",
      " 4   jumlah               1728 non-null   int64 \n",
      " 5   tahun                1728 non-null   int64 \n",
      "dtypes: int64(3), object(3)\n",
      "memory usage: 81.1+ KB\n"
     ]
    }
   ],
   "source": [
    "education_family_abuse.info()"
   ],
   "metadata": {
    "collapsed": false,
    "pycharm": {
     "name": "#%%\n"
    }
   }
  },
  {
   "cell_type": "code",
   "execution_count": 12,
   "outputs": [],
   "source": [
    "merge_family_abuse_and_education_abuse = pd.merge(gender_family_abuse, education_family_abuse, how='left', left_on=['tahun', 'jenis_kelamin', \"kode_kabupaten_kota\", \"nama_kabupaten_kota\"], right_on=['tahun', 'jenis_kelamin', \"kode_kabupaten_kota\", \"nama_kabupaten_kota\"])"
   ],
   "metadata": {
    "collapsed": false,
    "pycharm": {
     "name": "#%%\n"
    }
   }
  },
  {
   "cell_type": "code",
   "execution_count": 13,
   "outputs": [
    {
     "data": {
      "text/plain": "      kode_kabupaten_kota nama_kabupaten_kota jenis_kelamin  jumlah_korban  \\\n0                    3201     KABUPATEN BOGOR     LAKI-LAKI              0   \n1                    3201     KABUPATEN BOGOR     LAKI-LAKI              0   \n2                    3201     KABUPATEN BOGOR     LAKI-LAKI              0   \n3                    3201     KABUPATEN BOGOR     LAKI-LAKI              0   \n4                    3201     KABUPATEN BOGOR     LAKI-LAKI              0   \n...                   ...                 ...           ...            ...   \n1723                 3279         KOTA BANJAR     PEREMPUAN              3   \n1724                 3279         KOTA BANJAR     PEREMPUAN              3   \n1725                 3279         KOTA BANJAR     PEREMPUAN              3   \n1726                 3279         KOTA BANJAR     PEREMPUAN              3   \n1727                 3279         KOTA BANJAR     PEREMPUAN              3   \n\n      tahun kategori_pendidikan  jumlah  \n0      2018                 NaN       0  \n1      2018       TIDAK SEKOLAH       0  \n2      2018                  SD       0  \n3      2018                SLTP       0  \n4      2018                SLTA       0  \n...     ...                 ...     ...  \n1723   2021                SLTP       0  \n1724   2021                SLTA       0  \n1725   2021    PERGURUAN TINGGI       0  \n1726   2021                  TK       1  \n1727   2021                PAUD       0  \n\n[1728 rows x 7 columns]",
      "text/html": "<div>\n<style scoped>\n    .dataframe tbody tr th:only-of-type {\n        vertical-align: middle;\n    }\n\n    .dataframe tbody tr th {\n        vertical-align: top;\n    }\n\n    .dataframe thead th {\n        text-align: right;\n    }\n</style>\n<table border=\"1\" class=\"dataframe\">\n  <thead>\n    <tr style=\"text-align: right;\">\n      <th></th>\n      <th>kode_kabupaten_kota</th>\n      <th>nama_kabupaten_kota</th>\n      <th>jenis_kelamin</th>\n      <th>jumlah_korban</th>\n      <th>tahun</th>\n      <th>kategori_pendidikan</th>\n      <th>jumlah</th>\n    </tr>\n  </thead>\n  <tbody>\n    <tr>\n      <th>0</th>\n      <td>3201</td>\n      <td>KABUPATEN BOGOR</td>\n      <td>LAKI-LAKI</td>\n      <td>0</td>\n      <td>2018</td>\n      <td>NaN</td>\n      <td>0</td>\n    </tr>\n    <tr>\n      <th>1</th>\n      <td>3201</td>\n      <td>KABUPATEN BOGOR</td>\n      <td>LAKI-LAKI</td>\n      <td>0</td>\n      <td>2018</td>\n      <td>TIDAK SEKOLAH</td>\n      <td>0</td>\n    </tr>\n    <tr>\n      <th>2</th>\n      <td>3201</td>\n      <td>KABUPATEN BOGOR</td>\n      <td>LAKI-LAKI</td>\n      <td>0</td>\n      <td>2018</td>\n      <td>SD</td>\n      <td>0</td>\n    </tr>\n    <tr>\n      <th>3</th>\n      <td>3201</td>\n      <td>KABUPATEN BOGOR</td>\n      <td>LAKI-LAKI</td>\n      <td>0</td>\n      <td>2018</td>\n      <td>SLTP</td>\n      <td>0</td>\n    </tr>\n    <tr>\n      <th>4</th>\n      <td>3201</td>\n      <td>KABUPATEN BOGOR</td>\n      <td>LAKI-LAKI</td>\n      <td>0</td>\n      <td>2018</td>\n      <td>SLTA</td>\n      <td>0</td>\n    </tr>\n    <tr>\n      <th>...</th>\n      <td>...</td>\n      <td>...</td>\n      <td>...</td>\n      <td>...</td>\n      <td>...</td>\n      <td>...</td>\n      <td>...</td>\n    </tr>\n    <tr>\n      <th>1723</th>\n      <td>3279</td>\n      <td>KOTA BANJAR</td>\n      <td>PEREMPUAN</td>\n      <td>3</td>\n      <td>2021</td>\n      <td>SLTP</td>\n      <td>0</td>\n    </tr>\n    <tr>\n      <th>1724</th>\n      <td>3279</td>\n      <td>KOTA BANJAR</td>\n      <td>PEREMPUAN</td>\n      <td>3</td>\n      <td>2021</td>\n      <td>SLTA</td>\n      <td>0</td>\n    </tr>\n    <tr>\n      <th>1725</th>\n      <td>3279</td>\n      <td>KOTA BANJAR</td>\n      <td>PEREMPUAN</td>\n      <td>3</td>\n      <td>2021</td>\n      <td>PERGURUAN TINGGI</td>\n      <td>0</td>\n    </tr>\n    <tr>\n      <th>1726</th>\n      <td>3279</td>\n      <td>KOTA BANJAR</td>\n      <td>PEREMPUAN</td>\n      <td>3</td>\n      <td>2021</td>\n      <td>TK</td>\n      <td>1</td>\n    </tr>\n    <tr>\n      <th>1727</th>\n      <td>3279</td>\n      <td>KOTA BANJAR</td>\n      <td>PEREMPUAN</td>\n      <td>3</td>\n      <td>2021</td>\n      <td>PAUD</td>\n      <td>0</td>\n    </tr>\n  </tbody>\n</table>\n<p>1728 rows × 7 columns</p>\n</div>"
     },
     "execution_count": 13,
     "metadata": {},
     "output_type": "execute_result"
    }
   ],
   "source": [
    "merge_family_abuse_and_education_abuse.rename({})"
   ],
   "metadata": {
    "collapsed": false,
    "pycharm": {
     "name": "#%%\n"
    }
   }
  },
  {
   "cell_type": "code",
   "execution_count": 14,
   "outputs": [],
   "source": [
    "merge_family_abuse_and_education_abuse[\"persentase_total_kekerasan\"] = merge_family_abuse_and_education_abuse[\"jumlah_korban\"] + merge_family_abuse_and_education_abuse['jumlah']"
   ],
   "metadata": {
    "collapsed": false,
    "pycharm": {
     "name": "#%%\n"
    }
   }
  },
  {
   "cell_type": "code",
   "execution_count": 15,
   "outputs": [
    {
     "data": {
      "text/plain": "      kode_kabupaten_kota nama_kabupaten_kota jenis_kelamin  jumlah_korban  \\\n0                    3201     KABUPATEN BOGOR     LAKI-LAKI              0   \n1                    3201     KABUPATEN BOGOR     LAKI-LAKI              0   \n2                    3201     KABUPATEN BOGOR     LAKI-LAKI              0   \n3                    3201     KABUPATEN BOGOR     LAKI-LAKI              0   \n4                    3201     KABUPATEN BOGOR     LAKI-LAKI              0   \n...                   ...                 ...           ...            ...   \n1723                 3279         KOTA BANJAR     PEREMPUAN              3   \n1724                 3279         KOTA BANJAR     PEREMPUAN              3   \n1725                 3279         KOTA BANJAR     PEREMPUAN              3   \n1726                 3279         KOTA BANJAR     PEREMPUAN              3   \n1727                 3279         KOTA BANJAR     PEREMPUAN              3   \n\n      tahun kategori_pendidikan  jumlah  persentase_total_kekerasan  \n0      2018                 NaN       0                           0  \n1      2018       TIDAK SEKOLAH       0                           0  \n2      2018                  SD       0                           0  \n3      2018                SLTP       0                           0  \n4      2018                SLTA       0                           0  \n...     ...                 ...     ...                         ...  \n1723   2021                SLTP       0                           3  \n1724   2021                SLTA       0                           3  \n1725   2021    PERGURUAN TINGGI       0                           3  \n1726   2021                  TK       1                           4  \n1727   2021                PAUD       0                           3  \n\n[1728 rows x 8 columns]",
      "text/html": "<div>\n<style scoped>\n    .dataframe tbody tr th:only-of-type {\n        vertical-align: middle;\n    }\n\n    .dataframe tbody tr th {\n        vertical-align: top;\n    }\n\n    .dataframe thead th {\n        text-align: right;\n    }\n</style>\n<table border=\"1\" class=\"dataframe\">\n  <thead>\n    <tr style=\"text-align: right;\">\n      <th></th>\n      <th>kode_kabupaten_kota</th>\n      <th>nama_kabupaten_kota</th>\n      <th>jenis_kelamin</th>\n      <th>jumlah_korban</th>\n      <th>tahun</th>\n      <th>kategori_pendidikan</th>\n      <th>jumlah</th>\n      <th>persentase_total_kekerasan</th>\n    </tr>\n  </thead>\n  <tbody>\n    <tr>\n      <th>0</th>\n      <td>3201</td>\n      <td>KABUPATEN BOGOR</td>\n      <td>LAKI-LAKI</td>\n      <td>0</td>\n      <td>2018</td>\n      <td>NaN</td>\n      <td>0</td>\n      <td>0</td>\n    </tr>\n    <tr>\n      <th>1</th>\n      <td>3201</td>\n      <td>KABUPATEN BOGOR</td>\n      <td>LAKI-LAKI</td>\n      <td>0</td>\n      <td>2018</td>\n      <td>TIDAK SEKOLAH</td>\n      <td>0</td>\n      <td>0</td>\n    </tr>\n    <tr>\n      <th>2</th>\n      <td>3201</td>\n      <td>KABUPATEN BOGOR</td>\n      <td>LAKI-LAKI</td>\n      <td>0</td>\n      <td>2018</td>\n      <td>SD</td>\n      <td>0</td>\n      <td>0</td>\n    </tr>\n    <tr>\n      <th>3</th>\n      <td>3201</td>\n      <td>KABUPATEN BOGOR</td>\n      <td>LAKI-LAKI</td>\n      <td>0</td>\n      <td>2018</td>\n      <td>SLTP</td>\n      <td>0</td>\n      <td>0</td>\n    </tr>\n    <tr>\n      <th>4</th>\n      <td>3201</td>\n      <td>KABUPATEN BOGOR</td>\n      <td>LAKI-LAKI</td>\n      <td>0</td>\n      <td>2018</td>\n      <td>SLTA</td>\n      <td>0</td>\n      <td>0</td>\n    </tr>\n    <tr>\n      <th>...</th>\n      <td>...</td>\n      <td>...</td>\n      <td>...</td>\n      <td>...</td>\n      <td>...</td>\n      <td>...</td>\n      <td>...</td>\n      <td>...</td>\n    </tr>\n    <tr>\n      <th>1723</th>\n      <td>3279</td>\n      <td>KOTA BANJAR</td>\n      <td>PEREMPUAN</td>\n      <td>3</td>\n      <td>2021</td>\n      <td>SLTP</td>\n      <td>0</td>\n      <td>3</td>\n    </tr>\n    <tr>\n      <th>1724</th>\n      <td>3279</td>\n      <td>KOTA BANJAR</td>\n      <td>PEREMPUAN</td>\n      <td>3</td>\n      <td>2021</td>\n      <td>SLTA</td>\n      <td>0</td>\n      <td>3</td>\n    </tr>\n    <tr>\n      <th>1725</th>\n      <td>3279</td>\n      <td>KOTA BANJAR</td>\n      <td>PEREMPUAN</td>\n      <td>3</td>\n      <td>2021</td>\n      <td>PERGURUAN TINGGI</td>\n      <td>0</td>\n      <td>3</td>\n    </tr>\n    <tr>\n      <th>1726</th>\n      <td>3279</td>\n      <td>KOTA BANJAR</td>\n      <td>PEREMPUAN</td>\n      <td>3</td>\n      <td>2021</td>\n      <td>TK</td>\n      <td>1</td>\n      <td>4</td>\n    </tr>\n    <tr>\n      <th>1727</th>\n      <td>3279</td>\n      <td>KOTA BANJAR</td>\n      <td>PEREMPUAN</td>\n      <td>3</td>\n      <td>2021</td>\n      <td>PAUD</td>\n      <td>0</td>\n      <td>3</td>\n    </tr>\n  </tbody>\n</table>\n<p>1728 rows × 8 columns</p>\n</div>"
     },
     "execution_count": 15,
     "metadata": {},
     "output_type": "execute_result"
    }
   ],
   "source": [
    "merge_family_abuse_and_education_abuse"
   ],
   "metadata": {
    "collapsed": false,
    "pycharm": {
     "name": "#%%\n"
    }
   }
  },
  {
   "cell_type": "code",
   "execution_count": 16,
   "outputs": [],
   "source": [
    "merge_family_abuse_and_education_abuse[\"persentase_total_kekerasan\"] = round((merge_family_abuse_and_education_abuse[\"persentase_total_kekerasan\"]/merge_family_abuse_and_education_abuse[\"persentase_total_kekerasan\"].sum())*100, 3)"
   ],
   "metadata": {
    "collapsed": false,
    "pycharm": {
     "name": "#%%\n"
    }
   }
  },
  {
   "cell_type": "code",
   "execution_count": 17,
   "outputs": [],
   "source": [
    "merge_family_abuse_and_education_abuse.rename(columns={\"jumlah_korban\" : \"jml_kdrt_by_gender\", \"jumlah\" : \"jml_kekerasan_by_education\"}, inplace=True)"
   ],
   "metadata": {
    "collapsed": false,
    "pycharm": {
     "name": "#%%\n"
    }
   }
  },
  {
   "cell_type": "code",
   "execution_count": 18,
   "outputs": [],
   "source": [
    "merge_family_abuse_and_education_abuse.to_csv(\"Clean Data/abuseCase.csv\", index=False)"
   ],
   "metadata": {
    "collapsed": false,
    "pycharm": {
     "name": "#%%\n"
    }
   }
  },
  {
   "cell_type": "code",
   "execution_count": 19,
   "outputs": [
    {
     "data": {
      "text/plain": "      kode_kabupaten_kota nama_kabupaten_kota jenis_kelamin  \\\n0                    3201     KABUPATEN BOGOR     LAKI-LAKI   \n1                    3201     KABUPATEN BOGOR     LAKI-LAKI   \n2                    3201     KABUPATEN BOGOR     LAKI-LAKI   \n3                    3201     KABUPATEN BOGOR     LAKI-LAKI   \n4                    3201     KABUPATEN BOGOR     LAKI-LAKI   \n...                   ...                 ...           ...   \n1723                 3279         KOTA BANJAR     PEREMPUAN   \n1724                 3279         KOTA BANJAR     PEREMPUAN   \n1725                 3279         KOTA BANJAR     PEREMPUAN   \n1726                 3279         KOTA BANJAR     PEREMPUAN   \n1727                 3279         KOTA BANJAR     PEREMPUAN   \n\n      jml_kdrt_by_gender  tahun kategori_pendidikan  \\\n0                      0   2018                 NaN   \n1                      0   2018       TIDAK SEKOLAH   \n2                      0   2018                  SD   \n3                      0   2018                SLTP   \n4                      0   2018                SLTA   \n...                  ...    ...                 ...   \n1723                   3   2021                SLTP   \n1724                   3   2021                SLTA   \n1725                   3   2021    PERGURUAN TINGGI   \n1726                   3   2021                  TK   \n1727                   3   2021                PAUD   \n\n      jml_kekerasan_by_education  persentase_total_kekerasan  \n0                              0                       0.000  \n1                              0                       0.000  \n2                              0                       0.000  \n3                              0                       0.000  \n4                              0                       0.000  \n...                          ...                         ...  \n1723                           0                       0.018  \n1724                           0                       0.018  \n1725                           0                       0.018  \n1726                           1                       0.023  \n1727                           0                       0.018  \n\n[1728 rows x 8 columns]",
      "text/html": "<div>\n<style scoped>\n    .dataframe tbody tr th:only-of-type {\n        vertical-align: middle;\n    }\n\n    .dataframe tbody tr th {\n        vertical-align: top;\n    }\n\n    .dataframe thead th {\n        text-align: right;\n    }\n</style>\n<table border=\"1\" class=\"dataframe\">\n  <thead>\n    <tr style=\"text-align: right;\">\n      <th></th>\n      <th>kode_kabupaten_kota</th>\n      <th>nama_kabupaten_kota</th>\n      <th>jenis_kelamin</th>\n      <th>jml_kdrt_by_gender</th>\n      <th>tahun</th>\n      <th>kategori_pendidikan</th>\n      <th>jml_kekerasan_by_education</th>\n      <th>persentase_total_kekerasan</th>\n    </tr>\n  </thead>\n  <tbody>\n    <tr>\n      <th>0</th>\n      <td>3201</td>\n      <td>KABUPATEN BOGOR</td>\n      <td>LAKI-LAKI</td>\n      <td>0</td>\n      <td>2018</td>\n      <td>NaN</td>\n      <td>0</td>\n      <td>0.000</td>\n    </tr>\n    <tr>\n      <th>1</th>\n      <td>3201</td>\n      <td>KABUPATEN BOGOR</td>\n      <td>LAKI-LAKI</td>\n      <td>0</td>\n      <td>2018</td>\n      <td>TIDAK SEKOLAH</td>\n      <td>0</td>\n      <td>0.000</td>\n    </tr>\n    <tr>\n      <th>2</th>\n      <td>3201</td>\n      <td>KABUPATEN BOGOR</td>\n      <td>LAKI-LAKI</td>\n      <td>0</td>\n      <td>2018</td>\n      <td>SD</td>\n      <td>0</td>\n      <td>0.000</td>\n    </tr>\n    <tr>\n      <th>3</th>\n      <td>3201</td>\n      <td>KABUPATEN BOGOR</td>\n      <td>LAKI-LAKI</td>\n      <td>0</td>\n      <td>2018</td>\n      <td>SLTP</td>\n      <td>0</td>\n      <td>0.000</td>\n    </tr>\n    <tr>\n      <th>4</th>\n      <td>3201</td>\n      <td>KABUPATEN BOGOR</td>\n      <td>LAKI-LAKI</td>\n      <td>0</td>\n      <td>2018</td>\n      <td>SLTA</td>\n      <td>0</td>\n      <td>0.000</td>\n    </tr>\n    <tr>\n      <th>...</th>\n      <td>...</td>\n      <td>...</td>\n      <td>...</td>\n      <td>...</td>\n      <td>...</td>\n      <td>...</td>\n      <td>...</td>\n      <td>...</td>\n    </tr>\n    <tr>\n      <th>1723</th>\n      <td>3279</td>\n      <td>KOTA BANJAR</td>\n      <td>PEREMPUAN</td>\n      <td>3</td>\n      <td>2021</td>\n      <td>SLTP</td>\n      <td>0</td>\n      <td>0.018</td>\n    </tr>\n    <tr>\n      <th>1724</th>\n      <td>3279</td>\n      <td>KOTA BANJAR</td>\n      <td>PEREMPUAN</td>\n      <td>3</td>\n      <td>2021</td>\n      <td>SLTA</td>\n      <td>0</td>\n      <td>0.018</td>\n    </tr>\n    <tr>\n      <th>1725</th>\n      <td>3279</td>\n      <td>KOTA BANJAR</td>\n      <td>PEREMPUAN</td>\n      <td>3</td>\n      <td>2021</td>\n      <td>PERGURUAN TINGGI</td>\n      <td>0</td>\n      <td>0.018</td>\n    </tr>\n    <tr>\n      <th>1726</th>\n      <td>3279</td>\n      <td>KOTA BANJAR</td>\n      <td>PEREMPUAN</td>\n      <td>3</td>\n      <td>2021</td>\n      <td>TK</td>\n      <td>1</td>\n      <td>0.023</td>\n    </tr>\n    <tr>\n      <th>1727</th>\n      <td>3279</td>\n      <td>KOTA BANJAR</td>\n      <td>PEREMPUAN</td>\n      <td>3</td>\n      <td>2021</td>\n      <td>PAUD</td>\n      <td>0</td>\n      <td>0.018</td>\n    </tr>\n  </tbody>\n</table>\n<p>1728 rows × 8 columns</p>\n</div>"
     },
     "execution_count": 19,
     "metadata": {},
     "output_type": "execute_result"
    }
   ],
   "source": [
    "pd.read_csv(\"Clean Data/abuseCase.csv\")"
   ],
   "metadata": {
    "collapsed": false,
    "pycharm": {
     "name": "#%%\n"
    }
   }
  },
  {
   "cell_type": "code",
   "execution_count": null,
   "outputs": [],
   "source": [],
   "metadata": {
    "collapsed": false,
    "pycharm": {
     "name": "#%%\n"
    }
   }
  }
 ],
 "metadata": {
  "kernelspec": {
   "display_name": "Python 3",
   "language": "python",
   "name": "python3"
  },
  "language_info": {
   "codemirror_mode": {
    "name": "ipython",
    "version": 2
   },
   "file_extension": ".py",
   "mimetype": "text/x-python",
   "name": "python",
   "nbconvert_exporter": "python",
   "pygments_lexer": "ipython2",
   "version": "2.7.6"
  }
 },
 "nbformat": 4,
 "nbformat_minor": 0
}