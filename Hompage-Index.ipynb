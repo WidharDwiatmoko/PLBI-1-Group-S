{
 "cells": [
  {
   "cell_type": "code",
   "execution_count": 1,
   "outputs": [],
   "source": [
    "#Import library yang dibutuhkan\n",
    "import pandas as pd\n",
    "import numpy as np"
   ],
   "metadata": {
    "collapsed": false,
    "pycharm": {
     "name": "#%%\n"
    }
   }
  },
  {
   "cell_type": "code",
   "execution_count": 2,
   "outputs": [
    {
     "data": {
      "text/plain": "   id  kode_provinsi nama_provinsi  kode_kabupaten_kota nama_kabupaten_kota  \\\n0   1             32    JAWA BARAT                 3201     KABUPATEN BOGOR   \n1   2             32    JAWA BARAT                 3202  KABUPATEN SUKABUMI   \n2   3             32    JAWA BARAT                 3203   KABUPATEN CIANJUR   \n3   4             32    JAWA BARAT                 3204   KABUPATEN BANDUNG   \n4   5             32    JAWA BARAT                 3205     KABUPATEN GARUT   \n\n   indeks_kesehatan satuan  tahun  \n0             77.43   POIN   2010  \n1             76.10   POIN   2010  \n2             75.02   POIN   2010  \n3             81.44   POIN   2010  \n4             77.44   POIN   2010  ",
      "text/html": "<div>\n<style scoped>\n    .dataframe tbody tr th:only-of-type {\n        vertical-align: middle;\n    }\n\n    .dataframe tbody tr th {\n        vertical-align: top;\n    }\n\n    .dataframe thead th {\n        text-align: right;\n    }\n</style>\n<table border=\"1\" class=\"dataframe\">\n  <thead>\n    <tr style=\"text-align: right;\">\n      <th></th>\n      <th>id</th>\n      <th>kode_provinsi</th>\n      <th>nama_provinsi</th>\n      <th>kode_kabupaten_kota</th>\n      <th>nama_kabupaten_kota</th>\n      <th>indeks_kesehatan</th>\n      <th>satuan</th>\n      <th>tahun</th>\n    </tr>\n  </thead>\n  <tbody>\n    <tr>\n      <th>0</th>\n      <td>1</td>\n      <td>32</td>\n      <td>JAWA BARAT</td>\n      <td>3201</td>\n      <td>KABUPATEN BOGOR</td>\n      <td>77.43</td>\n      <td>POIN</td>\n      <td>2010</td>\n    </tr>\n    <tr>\n      <th>1</th>\n      <td>2</td>\n      <td>32</td>\n      <td>JAWA BARAT</td>\n      <td>3202</td>\n      <td>KABUPATEN SUKABUMI</td>\n      <td>76.10</td>\n      <td>POIN</td>\n      <td>2010</td>\n    </tr>\n    <tr>\n      <th>2</th>\n      <td>3</td>\n      <td>32</td>\n      <td>JAWA BARAT</td>\n      <td>3203</td>\n      <td>KABUPATEN CIANJUR</td>\n      <td>75.02</td>\n      <td>POIN</td>\n      <td>2010</td>\n    </tr>\n    <tr>\n      <th>3</th>\n      <td>4</td>\n      <td>32</td>\n      <td>JAWA BARAT</td>\n      <td>3204</td>\n      <td>KABUPATEN BANDUNG</td>\n      <td>81.44</td>\n      <td>POIN</td>\n      <td>2010</td>\n    </tr>\n    <tr>\n      <th>4</th>\n      <td>5</td>\n      <td>32</td>\n      <td>JAWA BARAT</td>\n      <td>3205</td>\n      <td>KABUPATEN GARUT</td>\n      <td>77.44</td>\n      <td>POIN</td>\n      <td>2010</td>\n    </tr>\n  </tbody>\n</table>\n</div>"
     },
     "execution_count": 2,
     "metadata": {},
     "output_type": "execute_result"
    }
   ],
   "source": [
    "city_health_index= pd.read_csv('Raw Data/city_health_index.csv')\n",
    "city_health_index.head()"
   ],
   "metadata": {
    "collapsed": false,
    "pycharm": {
     "name": "#%%\n"
    }
   }
  },
  {
   "cell_type": "code",
   "execution_count": 3,
   "outputs": [
    {
     "data": {
      "text/plain": "    id  kode_provinsi nama_provinsi  kode_kabupaten_kota  \\\n0    1             32    JAWA BARAT                 3201   \n1    2             32    JAWA BARAT                 3202   \n2    3             32    JAWA BARAT                 3203   \n3    4             32    JAWA BARAT                 3204   \n4    5             32    JAWA BARAT                 3205   \n5    6             32    JAWA BARAT                 3206   \n6    7             32    JAWA BARAT                 3207   \n7    8             32    JAWA BARAT                 3208   \n8    9             32    JAWA BARAT                 3209   \n9   10             32    JAWA BARAT                 3210   \n10  11             32    JAWA BARAT                 3211   \n11  12             32    JAWA BARAT                 3212   \n12  13             32    JAWA BARAT                 3213   \n13  14             32    JAWA BARAT                 3214   \n14  15             32    JAWA BARAT                 3215   \n15  16             32    JAWA BARAT                 3216   \n16  17             32    JAWA BARAT                 3217   \n17  18             32    JAWA BARAT                 3218   \n18  19             32    JAWA BARAT                 3271   \n19  20             32    JAWA BARAT                 3272   \n20  21             32    JAWA BARAT                 3273   \n21  22             32    JAWA BARAT                 3274   \n22  23             32    JAWA BARAT                 3275   \n23  24             32    JAWA BARAT                 3276   \n24  25             32    JAWA BARAT                 3277   \n25  26             32    JAWA BARAT                 3278   \n26  27             32    JAWA BARAT                 3279   \n27  28             32    JAWA BARAT                 3201   \n28  29             32    JAWA BARAT                 3202   \n29  30             32    JAWA BARAT                 3203   \n30  31             32    JAWA BARAT                 3204   \n31  32             32    JAWA BARAT                 3205   \n32  33             32    JAWA BARAT                 3206   \n33  34             32    JAWA BARAT                 3207   \n34  35             32    JAWA BARAT                 3208   \n35  36             32    JAWA BARAT                 3209   \n36  37             32    JAWA BARAT                 3210   \n37  38             32    JAWA BARAT                 3211   \n38  39             32    JAWA BARAT                 3212   \n39  40             32    JAWA BARAT                 3213   \n40  41             32    JAWA BARAT                 3214   \n41  42             32    JAWA BARAT                 3215   \n42  43             32    JAWA BARAT                 3216   \n43  44             32    JAWA BARAT                 3217   \n44  45             32    JAWA BARAT                 3218   \n45  46             32    JAWA BARAT                 3271   \n46  47             32    JAWA BARAT                 3272   \n47  48             32    JAWA BARAT                 3273   \n48  49             32    JAWA BARAT                 3274   \n49  50             32    JAWA BARAT                 3275   \n50  51             32    JAWA BARAT                 3276   \n51  52             32    JAWA BARAT                 3277   \n52  53             32    JAWA BARAT                 3278   \n53  54             32    JAWA BARAT                 3279   \n\n        nama_kabupaten_kota  jumlah_kasus satuan  tahun  \n0           KABUPATEN BOGOR           645  ORANG   2020  \n1        KABUPATEN SUKABUMI             9  ORANG   2020  \n2         KABUPATEN CIANJUR           645  ORANG   2020  \n3         KABUPATEN BANDUNG           988  ORANG   2020  \n4           KABUPATEN GARUT           116  ORANG   2020  \n5     KABUPATEN TASIKMALAYA          3480  ORANG   2020  \n6          KABUPATEN CIAMIS           318  ORANG   2020  \n7        KABUPATEN KUNINGAN           774  ORANG   2020  \n8         KABUPATEN CIREBON          1720  ORANG   2020  \n9      KABUPATEN MAJALENGKA           712  ORANG   2020  \n10       KABUPATEN SUMEDANG           167  ORANG   2020  \n11      KABUPATEN INDRAMAYU          3884  ORANG   2020  \n12         KABUPATEN SUBANG          2082  ORANG   2020  \n13     KABUPATEN PURWAKARTA            14  ORANG   2020  \n14       KABUPATEN KARAWANG            59  ORANG   2020  \n15         KABUPATEN BEKASI           130  ORANG   2020  \n16  KABUPATEN BANDUNG BARAT           409  ORANG   2020  \n17    KABUPATEN PANGANDARAN             8  ORANG   2020  \n18               KOTA BOGOR           825  ORANG   2020  \n19            KOTA SUKABUMI            53  ORANG   2020  \n20             KOTA BANDUNG          2212  ORANG   2020  \n21             KOTA CIREBON           313  ORANG   2020  \n22              KOTA BEKASI           584  ORANG   2020  \n23               KOTA DEPOK            52  ORANG   2020  \n24              KOTA CIMAHI           679  ORANG   2020  \n25         KOTA TASIKMALAYA           116  ORANG   2020  \n26              KOTA BANJAR             0  ORANG   2020  \n27          KABUPATEN BOGOR           363  ORANG   2021  \n28       KABUPATEN SUKABUMI             4  ORANG   2021  \n29        KABUPATEN CIANJUR           355  ORANG   2021  \n30        KABUPATEN BANDUNG           491  ORANG   2021  \n31          KABUPATEN GARUT            84  ORANG   2021  \n32    KABUPATEN TASIKMALAYA          1082  ORANG   2021  \n33         KABUPATEN CIAMIS           224  ORANG   2021  \n34       KABUPATEN KUNINGAN           489  ORANG   2021  \n35        KABUPATEN CIREBON          1366  ORANG   2021  \n36     KABUPATEN MAJALENGKA           825  ORANG   2021  \n37       KABUPATEN SUMEDANG           155  ORANG   2021  \n38      KABUPATEN INDRAMAYU          2168  ORANG   2021  \n39         KABUPATEN SUBANG          1794  ORANG   2021  \n40     KABUPATEN PURWAKARTA             0  ORANG   2021  \n41       KABUPATEN KARAWANG            22  ORANG   2021  \n42         KABUPATEN BEKASI            58  ORANG   2021  \n43  KABUPATEN BANDUNG BARAT           240  ORANG   2021  \n44    KABUPATEN PANGANDARAN             1  ORANG   2021  \n45               KOTA BOGOR           844  ORANG   2021  \n46            KOTA SUKABUMI            36  ORANG   2021  \n47             KOTA BANDUNG          2081  ORANG   2021  \n48             KOTA CIREBON           126  ORANG   2021  \n49              KOTA BEKASI           700  ORANG   2021  \n50               KOTA DEPOK            54  ORANG   2021  \n51              KOTA CIMAHI           509  ORANG   2021  \n52         KOTA TASIKMALAYA            45  ORANG   2021  \n53              KOTA BANJAR             1  ORANG   2021  ",
      "text/html": "<div>\n<style scoped>\n    .dataframe tbody tr th:only-of-type {\n        vertical-align: middle;\n    }\n\n    .dataframe tbody tr th {\n        vertical-align: top;\n    }\n\n    .dataframe thead th {\n        text-align: right;\n    }\n</style>\n<table border=\"1\" class=\"dataframe\">\n  <thead>\n    <tr style=\"text-align: right;\">\n      <th></th>\n      <th>id</th>\n      <th>kode_provinsi</th>\n      <th>nama_provinsi</th>\n      <th>kode_kabupaten_kota</th>\n      <th>nama_kabupaten_kota</th>\n      <th>jumlah_kasus</th>\n      <th>satuan</th>\n      <th>tahun</th>\n    </tr>\n  </thead>\n  <tbody>\n    <tr>\n      <th>0</th>\n      <td>1</td>\n      <td>32</td>\n      <td>JAWA BARAT</td>\n      <td>3201</td>\n      <td>KABUPATEN BOGOR</td>\n      <td>645</td>\n      <td>ORANG</td>\n      <td>2020</td>\n    </tr>\n    <tr>\n      <th>1</th>\n      <td>2</td>\n      <td>32</td>\n      <td>JAWA BARAT</td>\n      <td>3202</td>\n      <td>KABUPATEN SUKABUMI</td>\n      <td>9</td>\n      <td>ORANG</td>\n      <td>2020</td>\n    </tr>\n    <tr>\n      <th>2</th>\n      <td>3</td>\n      <td>32</td>\n      <td>JAWA BARAT</td>\n      <td>3203</td>\n      <td>KABUPATEN CIANJUR</td>\n      <td>645</td>\n      <td>ORANG</td>\n      <td>2020</td>\n    </tr>\n    <tr>\n      <th>3</th>\n      <td>4</td>\n      <td>32</td>\n      <td>JAWA BARAT</td>\n      <td>3204</td>\n      <td>KABUPATEN BANDUNG</td>\n      <td>988</td>\n      <td>ORANG</td>\n      <td>2020</td>\n    </tr>\n    <tr>\n      <th>4</th>\n      <td>5</td>\n      <td>32</td>\n      <td>JAWA BARAT</td>\n      <td>3205</td>\n      <td>KABUPATEN GARUT</td>\n      <td>116</td>\n      <td>ORANG</td>\n      <td>2020</td>\n    </tr>\n    <tr>\n      <th>5</th>\n      <td>6</td>\n      <td>32</td>\n      <td>JAWA BARAT</td>\n      <td>3206</td>\n      <td>KABUPATEN TASIKMALAYA</td>\n      <td>3480</td>\n      <td>ORANG</td>\n      <td>2020</td>\n    </tr>\n    <tr>\n      <th>6</th>\n      <td>7</td>\n      <td>32</td>\n      <td>JAWA BARAT</td>\n      <td>3207</td>\n      <td>KABUPATEN CIAMIS</td>\n      <td>318</td>\n      <td>ORANG</td>\n      <td>2020</td>\n    </tr>\n    <tr>\n      <th>7</th>\n      <td>8</td>\n      <td>32</td>\n      <td>JAWA BARAT</td>\n      <td>3208</td>\n      <td>KABUPATEN KUNINGAN</td>\n      <td>774</td>\n      <td>ORANG</td>\n      <td>2020</td>\n    </tr>\n    <tr>\n      <th>8</th>\n      <td>9</td>\n      <td>32</td>\n      <td>JAWA BARAT</td>\n      <td>3209</td>\n      <td>KABUPATEN CIREBON</td>\n      <td>1720</td>\n      <td>ORANG</td>\n      <td>2020</td>\n    </tr>\n    <tr>\n      <th>9</th>\n      <td>10</td>\n      <td>32</td>\n      <td>JAWA BARAT</td>\n      <td>3210</td>\n      <td>KABUPATEN MAJALENGKA</td>\n      <td>712</td>\n      <td>ORANG</td>\n      <td>2020</td>\n    </tr>\n    <tr>\n      <th>10</th>\n      <td>11</td>\n      <td>32</td>\n      <td>JAWA BARAT</td>\n      <td>3211</td>\n      <td>KABUPATEN SUMEDANG</td>\n      <td>167</td>\n      <td>ORANG</td>\n      <td>2020</td>\n    </tr>\n    <tr>\n      <th>11</th>\n      <td>12</td>\n      <td>32</td>\n      <td>JAWA BARAT</td>\n      <td>3212</td>\n      <td>KABUPATEN INDRAMAYU</td>\n      <td>3884</td>\n      <td>ORANG</td>\n      <td>2020</td>\n    </tr>\n    <tr>\n      <th>12</th>\n      <td>13</td>\n      <td>32</td>\n      <td>JAWA BARAT</td>\n      <td>3213</td>\n      <td>KABUPATEN SUBANG</td>\n      <td>2082</td>\n      <td>ORANG</td>\n      <td>2020</td>\n    </tr>\n    <tr>\n      <th>13</th>\n      <td>14</td>\n      <td>32</td>\n      <td>JAWA BARAT</td>\n      <td>3214</td>\n      <td>KABUPATEN PURWAKARTA</td>\n      <td>14</td>\n      <td>ORANG</td>\n      <td>2020</td>\n    </tr>\n    <tr>\n      <th>14</th>\n      <td>15</td>\n      <td>32</td>\n      <td>JAWA BARAT</td>\n      <td>3215</td>\n      <td>KABUPATEN KARAWANG</td>\n      <td>59</td>\n      <td>ORANG</td>\n      <td>2020</td>\n    </tr>\n    <tr>\n      <th>15</th>\n      <td>16</td>\n      <td>32</td>\n      <td>JAWA BARAT</td>\n      <td>3216</td>\n      <td>KABUPATEN BEKASI</td>\n      <td>130</td>\n      <td>ORANG</td>\n      <td>2020</td>\n    </tr>\n    <tr>\n      <th>16</th>\n      <td>17</td>\n      <td>32</td>\n      <td>JAWA BARAT</td>\n      <td>3217</td>\n      <td>KABUPATEN BANDUNG BARAT</td>\n      <td>409</td>\n      <td>ORANG</td>\n      <td>2020</td>\n    </tr>\n    <tr>\n      <th>17</th>\n      <td>18</td>\n      <td>32</td>\n      <td>JAWA BARAT</td>\n      <td>3218</td>\n      <td>KABUPATEN PANGANDARAN</td>\n      <td>8</td>\n      <td>ORANG</td>\n      <td>2020</td>\n    </tr>\n    <tr>\n      <th>18</th>\n      <td>19</td>\n      <td>32</td>\n      <td>JAWA BARAT</td>\n      <td>3271</td>\n      <td>KOTA BOGOR</td>\n      <td>825</td>\n      <td>ORANG</td>\n      <td>2020</td>\n    </tr>\n    <tr>\n      <th>19</th>\n      <td>20</td>\n      <td>32</td>\n      <td>JAWA BARAT</td>\n      <td>3272</td>\n      <td>KOTA SUKABUMI</td>\n      <td>53</td>\n      <td>ORANG</td>\n      <td>2020</td>\n    </tr>\n    <tr>\n      <th>20</th>\n      <td>21</td>\n      <td>32</td>\n      <td>JAWA BARAT</td>\n      <td>3273</td>\n      <td>KOTA BANDUNG</td>\n      <td>2212</td>\n      <td>ORANG</td>\n      <td>2020</td>\n    </tr>\n    <tr>\n      <th>21</th>\n      <td>22</td>\n      <td>32</td>\n      <td>JAWA BARAT</td>\n      <td>3274</td>\n      <td>KOTA CIREBON</td>\n      <td>313</td>\n      <td>ORANG</td>\n      <td>2020</td>\n    </tr>\n    <tr>\n      <th>22</th>\n      <td>23</td>\n      <td>32</td>\n      <td>JAWA BARAT</td>\n      <td>3275</td>\n      <td>KOTA BEKASI</td>\n      <td>584</td>\n      <td>ORANG</td>\n      <td>2020</td>\n    </tr>\n    <tr>\n      <th>23</th>\n      <td>24</td>\n      <td>32</td>\n      <td>JAWA BARAT</td>\n      <td>3276</td>\n      <td>KOTA DEPOK</td>\n      <td>52</td>\n      <td>ORANG</td>\n      <td>2020</td>\n    </tr>\n    <tr>\n      <th>24</th>\n      <td>25</td>\n      <td>32</td>\n      <td>JAWA BARAT</td>\n      <td>3277</td>\n      <td>KOTA CIMAHI</td>\n      <td>679</td>\n      <td>ORANG</td>\n      <td>2020</td>\n    </tr>\n    <tr>\n      <th>25</th>\n      <td>26</td>\n      <td>32</td>\n      <td>JAWA BARAT</td>\n      <td>3278</td>\n      <td>KOTA TASIKMALAYA</td>\n      <td>116</td>\n      <td>ORANG</td>\n      <td>2020</td>\n    </tr>\n    <tr>\n      <th>26</th>\n      <td>27</td>\n      <td>32</td>\n      <td>JAWA BARAT</td>\n      <td>3279</td>\n      <td>KOTA BANJAR</td>\n      <td>0</td>\n      <td>ORANG</td>\n      <td>2020</td>\n    </tr>\n    <tr>\n      <th>27</th>\n      <td>28</td>\n      <td>32</td>\n      <td>JAWA BARAT</td>\n      <td>3201</td>\n      <td>KABUPATEN BOGOR</td>\n      <td>363</td>\n      <td>ORANG</td>\n      <td>2021</td>\n    </tr>\n    <tr>\n      <th>28</th>\n      <td>29</td>\n      <td>32</td>\n      <td>JAWA BARAT</td>\n      <td>3202</td>\n      <td>KABUPATEN SUKABUMI</td>\n      <td>4</td>\n      <td>ORANG</td>\n      <td>2021</td>\n    </tr>\n    <tr>\n      <th>29</th>\n      <td>30</td>\n      <td>32</td>\n      <td>JAWA BARAT</td>\n      <td>3203</td>\n      <td>KABUPATEN CIANJUR</td>\n      <td>355</td>\n      <td>ORANG</td>\n      <td>2021</td>\n    </tr>\n    <tr>\n      <th>30</th>\n      <td>31</td>\n      <td>32</td>\n      <td>JAWA BARAT</td>\n      <td>3204</td>\n      <td>KABUPATEN BANDUNG</td>\n      <td>491</td>\n      <td>ORANG</td>\n      <td>2021</td>\n    </tr>\n    <tr>\n      <th>31</th>\n      <td>32</td>\n      <td>32</td>\n      <td>JAWA BARAT</td>\n      <td>3205</td>\n      <td>KABUPATEN GARUT</td>\n      <td>84</td>\n      <td>ORANG</td>\n      <td>2021</td>\n    </tr>\n    <tr>\n      <th>32</th>\n      <td>33</td>\n      <td>32</td>\n      <td>JAWA BARAT</td>\n      <td>3206</td>\n      <td>KABUPATEN TASIKMALAYA</td>\n      <td>1082</td>\n      <td>ORANG</td>\n      <td>2021</td>\n    </tr>\n    <tr>\n      <th>33</th>\n      <td>34</td>\n      <td>32</td>\n      <td>JAWA BARAT</td>\n      <td>3207</td>\n      <td>KABUPATEN CIAMIS</td>\n      <td>224</td>\n      <td>ORANG</td>\n      <td>2021</td>\n    </tr>\n    <tr>\n      <th>34</th>\n      <td>35</td>\n      <td>32</td>\n      <td>JAWA BARAT</td>\n      <td>3208</td>\n      <td>KABUPATEN KUNINGAN</td>\n      <td>489</td>\n      <td>ORANG</td>\n      <td>2021</td>\n    </tr>\n    <tr>\n      <th>35</th>\n      <td>36</td>\n      <td>32</td>\n      <td>JAWA BARAT</td>\n      <td>3209</td>\n      <td>KABUPATEN CIREBON</td>\n      <td>1366</td>\n      <td>ORANG</td>\n      <td>2021</td>\n    </tr>\n    <tr>\n      <th>36</th>\n      <td>37</td>\n      <td>32</td>\n      <td>JAWA BARAT</td>\n      <td>3210</td>\n      <td>KABUPATEN MAJALENGKA</td>\n      <td>825</td>\n      <td>ORANG</td>\n      <td>2021</td>\n    </tr>\n    <tr>\n      <th>37</th>\n      <td>38</td>\n      <td>32</td>\n      <td>JAWA BARAT</td>\n      <td>3211</td>\n      <td>KABUPATEN SUMEDANG</td>\n      <td>155</td>\n      <td>ORANG</td>\n      <td>2021</td>\n    </tr>\n    <tr>\n      <th>38</th>\n      <td>39</td>\n      <td>32</td>\n      <td>JAWA BARAT</td>\n      <td>3212</td>\n      <td>KABUPATEN INDRAMAYU</td>\n      <td>2168</td>\n      <td>ORANG</td>\n      <td>2021</td>\n    </tr>\n    <tr>\n      <th>39</th>\n      <td>40</td>\n      <td>32</td>\n      <td>JAWA BARAT</td>\n      <td>3213</td>\n      <td>KABUPATEN SUBANG</td>\n      <td>1794</td>\n      <td>ORANG</td>\n      <td>2021</td>\n    </tr>\n    <tr>\n      <th>40</th>\n      <td>41</td>\n      <td>32</td>\n      <td>JAWA BARAT</td>\n      <td>3214</td>\n      <td>KABUPATEN PURWAKARTA</td>\n      <td>0</td>\n      <td>ORANG</td>\n      <td>2021</td>\n    </tr>\n    <tr>\n      <th>41</th>\n      <td>42</td>\n      <td>32</td>\n      <td>JAWA BARAT</td>\n      <td>3215</td>\n      <td>KABUPATEN KARAWANG</td>\n      <td>22</td>\n      <td>ORANG</td>\n      <td>2021</td>\n    </tr>\n    <tr>\n      <th>42</th>\n      <td>43</td>\n      <td>32</td>\n      <td>JAWA BARAT</td>\n      <td>3216</td>\n      <td>KABUPATEN BEKASI</td>\n      <td>58</td>\n      <td>ORANG</td>\n      <td>2021</td>\n    </tr>\n    <tr>\n      <th>43</th>\n      <td>44</td>\n      <td>32</td>\n      <td>JAWA BARAT</td>\n      <td>3217</td>\n      <td>KABUPATEN BANDUNG BARAT</td>\n      <td>240</td>\n      <td>ORANG</td>\n      <td>2021</td>\n    </tr>\n    <tr>\n      <th>44</th>\n      <td>45</td>\n      <td>32</td>\n      <td>JAWA BARAT</td>\n      <td>3218</td>\n      <td>KABUPATEN PANGANDARAN</td>\n      <td>1</td>\n      <td>ORANG</td>\n      <td>2021</td>\n    </tr>\n    <tr>\n      <th>45</th>\n      <td>46</td>\n      <td>32</td>\n      <td>JAWA BARAT</td>\n      <td>3271</td>\n      <td>KOTA BOGOR</td>\n      <td>844</td>\n      <td>ORANG</td>\n      <td>2021</td>\n    </tr>\n    <tr>\n      <th>46</th>\n      <td>47</td>\n      <td>32</td>\n      <td>JAWA BARAT</td>\n      <td>3272</td>\n      <td>KOTA SUKABUMI</td>\n      <td>36</td>\n      <td>ORANG</td>\n      <td>2021</td>\n    </tr>\n    <tr>\n      <th>47</th>\n      <td>48</td>\n      <td>32</td>\n      <td>JAWA BARAT</td>\n      <td>3273</td>\n      <td>KOTA BANDUNG</td>\n      <td>2081</td>\n      <td>ORANG</td>\n      <td>2021</td>\n    </tr>\n    <tr>\n      <th>48</th>\n      <td>49</td>\n      <td>32</td>\n      <td>JAWA BARAT</td>\n      <td>3274</td>\n      <td>KOTA CIREBON</td>\n      <td>126</td>\n      <td>ORANG</td>\n      <td>2021</td>\n    </tr>\n    <tr>\n      <th>49</th>\n      <td>50</td>\n      <td>32</td>\n      <td>JAWA BARAT</td>\n      <td>3275</td>\n      <td>KOTA BEKASI</td>\n      <td>700</td>\n      <td>ORANG</td>\n      <td>2021</td>\n    </tr>\n    <tr>\n      <th>50</th>\n      <td>51</td>\n      <td>32</td>\n      <td>JAWA BARAT</td>\n      <td>3276</td>\n      <td>KOTA DEPOK</td>\n      <td>54</td>\n      <td>ORANG</td>\n      <td>2021</td>\n    </tr>\n    <tr>\n      <th>51</th>\n      <td>52</td>\n      <td>32</td>\n      <td>JAWA BARAT</td>\n      <td>3277</td>\n      <td>KOTA CIMAHI</td>\n      <td>509</td>\n      <td>ORANG</td>\n      <td>2021</td>\n    </tr>\n    <tr>\n      <th>52</th>\n      <td>53</td>\n      <td>32</td>\n      <td>JAWA BARAT</td>\n      <td>3278</td>\n      <td>KOTA TASIKMALAYA</td>\n      <td>45</td>\n      <td>ORANG</td>\n      <td>2021</td>\n    </tr>\n    <tr>\n      <th>53</th>\n      <td>54</td>\n      <td>32</td>\n      <td>JAWA BARAT</td>\n      <td>3279</td>\n      <td>KOTA BANJAR</td>\n      <td>1</td>\n      <td>ORANG</td>\n      <td>2021</td>\n    </tr>\n  </tbody>\n</table>\n</div>"
     },
     "execution_count": 3,
     "metadata": {},
     "output_type": "execute_result"
    }
   ],
   "source": [
    "data_ims= pd.read_csv('Raw Data/city_transmitted_diseas.csv')\n",
    "data_ims"
   ],
   "metadata": {
    "collapsed": false,
    "pycharm": {
     "name": "#%%\n"
    }
   }
  },
  {
   "cell_type": "code",
   "execution_count": 4,
   "outputs": [
    {
     "data": {
      "text/plain": "   kode_kabupaten_kota  jumlah_kasus  tahun\n0                 3201           645   2020\n1                 3202             9   2020\n2                 3203           645   2020\n3                 3204           988   2020\n4                 3205           116   2020",
      "text/html": "<div>\n<style scoped>\n    .dataframe tbody tr th:only-of-type {\n        vertical-align: middle;\n    }\n\n    .dataframe tbody tr th {\n        vertical-align: top;\n    }\n\n    .dataframe thead th {\n        text-align: right;\n    }\n</style>\n<table border=\"1\" class=\"dataframe\">\n  <thead>\n    <tr style=\"text-align: right;\">\n      <th></th>\n      <th>kode_kabupaten_kota</th>\n      <th>jumlah_kasus</th>\n      <th>tahun</th>\n    </tr>\n  </thead>\n  <tbody>\n    <tr>\n      <th>0</th>\n      <td>3201</td>\n      <td>645</td>\n      <td>2020</td>\n    </tr>\n    <tr>\n      <th>1</th>\n      <td>3202</td>\n      <td>9</td>\n      <td>2020</td>\n    </tr>\n    <tr>\n      <th>2</th>\n      <td>3203</td>\n      <td>645</td>\n      <td>2020</td>\n    </tr>\n    <tr>\n      <th>3</th>\n      <td>3204</td>\n      <td>988</td>\n      <td>2020</td>\n    </tr>\n    <tr>\n      <th>4</th>\n      <td>3205</td>\n      <td>116</td>\n      <td>2020</td>\n    </tr>\n  </tbody>\n</table>\n</div>"
     },
     "execution_count": 4,
     "metadata": {},
     "output_type": "execute_result"
    }
   ],
   "source": [
    "data_ims = data_ims.drop(columns=['id','kode_provinsi','nama_provinsi','nama_kabupaten_kota','satuan'])\n",
    "data_ims.head()"
   ],
   "metadata": {
    "collapsed": false,
    "pycharm": {
     "name": "#%%\n"
    }
   }
  },
  {
   "cell_type": "code",
   "execution_count": 5,
   "outputs": [
    {
     "data": {
      "text/plain": "      id  kode_provinsi nama_provinsi  kode_kabupaten_kota  \\\n0      1             32    JAWA BARAT                 3201   \n1      2             32    JAWA BARAT                 3202   \n2      3             32    JAWA BARAT                 3203   \n3      4             32    JAWA BARAT                 3204   \n4      5             32    JAWA BARAT                 3205   \n..   ...            ...           ...                  ...   \n184  185             32    JAWA BARAT                 3275   \n185  186             32    JAWA BARAT                 3276   \n186  187             32    JAWA BARAT                 3277   \n187  188             32    JAWA BARAT                 3278   \n188  189             32    JAWA BARAT                 3279   \n\n    nama_kabupaten_kota  persentase_penduduk  satuan  tahun  \n0       KABUPATEN BOGOR                35.92  PERSEN   2015  \n1    KABUPATEN SUKABUMI                30.72  PERSEN   2015  \n2     KABUPATEN CIANJUR                27.52  PERSEN   2015  \n3     KABUPATEN BANDUNG                23.61  PERSEN   2015  \n4       KABUPATEN GARUT                34.23  PERSEN   2015  \n..                  ...                  ...     ...    ...  \n184         KOTA BEKASI                25.46  PERSEN   2021  \n185          KOTA DEPOK                15.49  PERSEN   2021  \n186         KOTA CIMAHI                16.23  PERSEN   2021  \n187    KOTA TASIKMALAYA                18.37  PERSEN   2021  \n188         KOTA BANJAR                13.71  PERSEN   2021  \n\n[189 rows x 8 columns]",
      "text/html": "<div>\n<style scoped>\n    .dataframe tbody tr th:only-of-type {\n        vertical-align: middle;\n    }\n\n    .dataframe tbody tr th {\n        vertical-align: top;\n    }\n\n    .dataframe thead th {\n        text-align: right;\n    }\n</style>\n<table border=\"1\" class=\"dataframe\">\n  <thead>\n    <tr style=\"text-align: right;\">\n      <th></th>\n      <th>id</th>\n      <th>kode_provinsi</th>\n      <th>nama_provinsi</th>\n      <th>kode_kabupaten_kota</th>\n      <th>nama_kabupaten_kota</th>\n      <th>persentase_penduduk</th>\n      <th>satuan</th>\n      <th>tahun</th>\n    </tr>\n  </thead>\n  <tbody>\n    <tr>\n      <th>0</th>\n      <td>1</td>\n      <td>32</td>\n      <td>JAWA BARAT</td>\n      <td>3201</td>\n      <td>KABUPATEN BOGOR</td>\n      <td>35.92</td>\n      <td>PERSEN</td>\n      <td>2015</td>\n    </tr>\n    <tr>\n      <th>1</th>\n      <td>2</td>\n      <td>32</td>\n      <td>JAWA BARAT</td>\n      <td>3202</td>\n      <td>KABUPATEN SUKABUMI</td>\n      <td>30.72</td>\n      <td>PERSEN</td>\n      <td>2015</td>\n    </tr>\n    <tr>\n      <th>2</th>\n      <td>3</td>\n      <td>32</td>\n      <td>JAWA BARAT</td>\n      <td>3203</td>\n      <td>KABUPATEN CIANJUR</td>\n      <td>27.52</td>\n      <td>PERSEN</td>\n      <td>2015</td>\n    </tr>\n    <tr>\n      <th>3</th>\n      <td>4</td>\n      <td>32</td>\n      <td>JAWA BARAT</td>\n      <td>3204</td>\n      <td>KABUPATEN BANDUNG</td>\n      <td>23.61</td>\n      <td>PERSEN</td>\n      <td>2015</td>\n    </tr>\n    <tr>\n      <th>4</th>\n      <td>5</td>\n      <td>32</td>\n      <td>JAWA BARAT</td>\n      <td>3205</td>\n      <td>KABUPATEN GARUT</td>\n      <td>34.23</td>\n      <td>PERSEN</td>\n      <td>2015</td>\n    </tr>\n    <tr>\n      <th>...</th>\n      <td>...</td>\n      <td>...</td>\n      <td>...</td>\n      <td>...</td>\n      <td>...</td>\n      <td>...</td>\n      <td>...</td>\n      <td>...</td>\n    </tr>\n    <tr>\n      <th>184</th>\n      <td>185</td>\n      <td>32</td>\n      <td>JAWA BARAT</td>\n      <td>3275</td>\n      <td>KOTA BEKASI</td>\n      <td>25.46</td>\n      <td>PERSEN</td>\n      <td>2021</td>\n    </tr>\n    <tr>\n      <th>185</th>\n      <td>186</td>\n      <td>32</td>\n      <td>JAWA BARAT</td>\n      <td>3276</td>\n      <td>KOTA DEPOK</td>\n      <td>15.49</td>\n      <td>PERSEN</td>\n      <td>2021</td>\n    </tr>\n    <tr>\n      <th>186</th>\n      <td>187</td>\n      <td>32</td>\n      <td>JAWA BARAT</td>\n      <td>3277</td>\n      <td>KOTA CIMAHI</td>\n      <td>16.23</td>\n      <td>PERSEN</td>\n      <td>2021</td>\n    </tr>\n    <tr>\n      <th>187</th>\n      <td>188</td>\n      <td>32</td>\n      <td>JAWA BARAT</td>\n      <td>3278</td>\n      <td>KOTA TASIKMALAYA</td>\n      <td>18.37</td>\n      <td>PERSEN</td>\n      <td>2021</td>\n    </tr>\n    <tr>\n      <th>188</th>\n      <td>189</td>\n      <td>32</td>\n      <td>JAWA BARAT</td>\n      <td>3279</td>\n      <td>KOTA BANJAR</td>\n      <td>13.71</td>\n      <td>PERSEN</td>\n      <td>2021</td>\n    </tr>\n  </tbody>\n</table>\n<p>189 rows × 8 columns</p>\n</div>"
     },
     "execution_count": 5,
     "metadata": {},
     "output_type": "execute_result"
    }
   ],
   "source": [
    "city_people_health_complain= pd.read_csv('Raw Data/city_percentage_people_health_complain.csv')\n",
    "city_people_health_complain"
   ],
   "metadata": {
    "collapsed": false,
    "pycharm": {
     "name": "#%%\n"
    }
   }
  },
  {
   "cell_type": "code",
   "execution_count": 6,
   "outputs": [],
   "source": [
    "city_people_health_complain = city_people_health_complain.drop(columns=['id','kode_provinsi','nama_provinsi','nama_kabupaten_kota','satuan'])"
   ],
   "metadata": {
    "collapsed": false,
    "pycharm": {
     "name": "#%%\n"
    }
   }
  },
  {
   "cell_type": "code",
   "execution_count": 7,
   "outputs": [
    {
     "data": {
      "text/plain": "    id  kode_provinsi nama_provinsi  kode_kabupaten_kota  \\\n0    1             32    JAWA BARAT                 3201   \n1    2             32    JAWA BARAT                 3202   \n2    3             32    JAWA BARAT                 3203   \n3    4             32    JAWA BARAT                 3204   \n4    5             32    JAWA BARAT                 3205   \n5    6             32    JAWA BARAT                 3206   \n6    7             32    JAWA BARAT                 3207   \n7    8             32    JAWA BARAT                 3208   \n8    9             32    JAWA BARAT                 3209   \n9   10             32    JAWA BARAT                 3210   \n10  11             32    JAWA BARAT                 3211   \n11  12             32    JAWA BARAT                 3212   \n12  13             32    JAWA BARAT                 3213   \n13  14             32    JAWA BARAT                 3214   \n14  15             32    JAWA BARAT                 3215   \n15  16             32    JAWA BARAT                 3216   \n16  17             32    JAWA BARAT                 3217   \n17  18             32    JAWA BARAT                 3218   \n18  19             32    JAWA BARAT                 3271   \n19  20             32    JAWA BARAT                 3272   \n20  21             32    JAWA BARAT                 3273   \n21  22             32    JAWA BARAT                 3274   \n22  23             32    JAWA BARAT                 3275   \n23  24             32    JAWA BARAT                 3276   \n24  25             32    JAWA BARAT                 3277   \n25  26             32    JAWA BARAT                 3278   \n26  27             32    JAWA BARAT                 3279   \n27  28             32    JAWA BARAT                 3201   \n28  29             32    JAWA BARAT                 3202   \n29  30             32    JAWA BARAT                 3203   \n30  31             32    JAWA BARAT                 3204   \n31  32             32    JAWA BARAT                 3205   \n32  33             32    JAWA BARAT                 3206   \n33  34             32    JAWA BARAT                 3207   \n34  35             32    JAWA BARAT                 3208   \n35  36             32    JAWA BARAT                 3209   \n36  37             32    JAWA BARAT                 3210   \n37  38             32    JAWA BARAT                 3211   \n38  39             32    JAWA BARAT                 3212   \n39  40             32    JAWA BARAT                 3213   \n40  41             32    JAWA BARAT                 3214   \n41  42             32    JAWA BARAT                 3215   \n42  43             32    JAWA BARAT                 3216   \n43  44             32    JAWA BARAT                 3217   \n44  45             32    JAWA BARAT                 3218   \n45  46             32    JAWA BARAT                 3271   \n46  47             32    JAWA BARAT                 3272   \n47  48             32    JAWA BARAT                 3273   \n48  49             32    JAWA BARAT                 3274   \n49  50             32    JAWA BARAT                 3275   \n50  51             32    JAWA BARAT                 3276   \n51  52             32    JAWA BARAT                 3277   \n52  53             32    JAWA BARAT                 3278   \n53  54             32    JAWA BARAT                 3279   \n\n        nama_kabupaten_kota  jumlah_balita satuan  tahun  \n0           KABUPATEN BOGOR          21322  ORANG   2020  \n1        KABUPATEN SUKABUMI           8838  ORANG   2020  \n2         KABUPATEN CIANJUR           9069  ORANG   2020  \n3         KABUPATEN BANDUNG          13728  ORANG   2020  \n4           KABUPATEN GARUT           9128  ORANG   2020  \n5     KABUPATEN TASIKMALAYA           9275  ORANG   2020  \n6          KABUPATEN CIAMIS           4810  ORANG   2020  \n7        KABUPATEN KUNINGAN           4265  ORANG   2020  \n8         KABUPATEN CIREBON          15737  ORANG   2020  \n9      KABUPATEN MAJALENGKA           4549  ORANG   2020  \n10       KABUPATEN SUMEDANG           5784  ORANG   2020  \n11      KABUPATEN INDRAMAYU           5218  ORANG   2020  \n12         KABUPATEN SUBANG           2977  ORANG   2020  \n13     KABUPATEN PURWAKARTA           2648  ORANG   2020  \n14       KABUPATEN KARAWANG           4647  ORANG   2020  \n15         KABUPATEN BEKASI           6723  ORANG   2020  \n16  KABUPATEN BANDUNG BARAT           6130  ORANG   2020  \n17    KABUPATEN PANGANDARAN            161  ORANG   2020  \n18               KOTA BOGOR           2915  ORANG   2020  \n19            KOTA SUKABUMI           1333  ORANG   2020  \n20             KOTA BANDUNG           7910  ORANG   2020  \n21             KOTA CIREBON           2149  ORANG   2020  \n22              KOTA BEKASI           8228  ORANG   2020  \n23               KOTA DEPOK           5948  ORANG   2020  \n24              KOTA CIMAHI           2491  ORANG   2020  \n25         KOTA TASIKMALAYA           3738  ORANG   2020  \n26              KOTA BANJAR           1086  ORANG   2020  \n27          KABUPATEN BOGOR          16821  ORANG   2021  \n28       KABUPATEN SUKABUMI           6099  ORANG   2021  \n29        KABUPATEN CIANJUR           5788  ORANG   2021  \n30        KABUPATEN BANDUNG           8809  ORANG   2021  \n31          KABUPATEN GARUT            313  ORANG   2021  \n32    KABUPATEN TASIKMALAYA           4572  ORANG   2021  \n33         KABUPATEN CIAMIS           2368  ORANG   2021  \n34       KABUPATEN KUNINGAN           2461  ORANG   2021  \n35        KABUPATEN CIREBON          13385  ORANG   2021  \n36     KABUPATEN MAJALENGKA           3705  ORANG   2021  \n37       KABUPATEN SUMEDANG           2382  ORANG   2021  \n38      KABUPATEN INDRAMAYU           5586  ORANG   2021  \n39         KABUPATEN SUBANG           2736  ORANG   2021  \n40     KABUPATEN PURWAKARTA            922  ORANG   2021  \n41       KABUPATEN KARAWANG           2914  ORANG   2021  \n42         KABUPATEN BEKASI          15485  ORANG   2021  \n43  KABUPATEN BANDUNG BARAT           5210  ORANG   2021  \n44    KABUPATEN PANGANDARAN            347  ORANG   2021  \n45               KOTA BOGOR           2990  ORANG   2021  \n46            KOTA SUKABUMI            621  ORANG   2021  \n47             KOTA BANDUNG           4996  ORANG   2021  \n48             KOTA CIREBON           2394  ORANG   2021  \n49              KOTA BEKASI           5662  ORANG   2021  \n50               KOTA DEPOK           2397  ORANG   2021  \n51              KOTA CIMAHI           1221  ORANG   2021  \n52         KOTA TASIKMALAYA           3766  ORANG   2021  \n53              KOTA BANJAR            603  ORANG   2021  ",
      "text/html": "<div>\n<style scoped>\n    .dataframe tbody tr th:only-of-type {\n        vertical-align: middle;\n    }\n\n    .dataframe tbody tr th {\n        vertical-align: top;\n    }\n\n    .dataframe thead th {\n        text-align: right;\n    }\n</style>\n<table border=\"1\" class=\"dataframe\">\n  <thead>\n    <tr style=\"text-align: right;\">\n      <th></th>\n      <th>id</th>\n      <th>kode_provinsi</th>\n      <th>nama_provinsi</th>\n      <th>kode_kabupaten_kota</th>\n      <th>nama_kabupaten_kota</th>\n      <th>jumlah_balita</th>\n      <th>satuan</th>\n      <th>tahun</th>\n    </tr>\n  </thead>\n  <tbody>\n    <tr>\n      <th>0</th>\n      <td>1</td>\n      <td>32</td>\n      <td>JAWA BARAT</td>\n      <td>3201</td>\n      <td>KABUPATEN BOGOR</td>\n      <td>21322</td>\n      <td>ORANG</td>\n      <td>2020</td>\n    </tr>\n    <tr>\n      <th>1</th>\n      <td>2</td>\n      <td>32</td>\n      <td>JAWA BARAT</td>\n      <td>3202</td>\n      <td>KABUPATEN SUKABUMI</td>\n      <td>8838</td>\n      <td>ORANG</td>\n      <td>2020</td>\n    </tr>\n    <tr>\n      <th>2</th>\n      <td>3</td>\n      <td>32</td>\n      <td>JAWA BARAT</td>\n      <td>3203</td>\n      <td>KABUPATEN CIANJUR</td>\n      <td>9069</td>\n      <td>ORANG</td>\n      <td>2020</td>\n    </tr>\n    <tr>\n      <th>3</th>\n      <td>4</td>\n      <td>32</td>\n      <td>JAWA BARAT</td>\n      <td>3204</td>\n      <td>KABUPATEN BANDUNG</td>\n      <td>13728</td>\n      <td>ORANG</td>\n      <td>2020</td>\n    </tr>\n    <tr>\n      <th>4</th>\n      <td>5</td>\n      <td>32</td>\n      <td>JAWA BARAT</td>\n      <td>3205</td>\n      <td>KABUPATEN GARUT</td>\n      <td>9128</td>\n      <td>ORANG</td>\n      <td>2020</td>\n    </tr>\n    <tr>\n      <th>5</th>\n      <td>6</td>\n      <td>32</td>\n      <td>JAWA BARAT</td>\n      <td>3206</td>\n      <td>KABUPATEN TASIKMALAYA</td>\n      <td>9275</td>\n      <td>ORANG</td>\n      <td>2020</td>\n    </tr>\n    <tr>\n      <th>6</th>\n      <td>7</td>\n      <td>32</td>\n      <td>JAWA BARAT</td>\n      <td>3207</td>\n      <td>KABUPATEN CIAMIS</td>\n      <td>4810</td>\n      <td>ORANG</td>\n      <td>2020</td>\n    </tr>\n    <tr>\n      <th>7</th>\n      <td>8</td>\n      <td>32</td>\n      <td>JAWA BARAT</td>\n      <td>3208</td>\n      <td>KABUPATEN KUNINGAN</td>\n      <td>4265</td>\n      <td>ORANG</td>\n      <td>2020</td>\n    </tr>\n    <tr>\n      <th>8</th>\n      <td>9</td>\n      <td>32</td>\n      <td>JAWA BARAT</td>\n      <td>3209</td>\n      <td>KABUPATEN CIREBON</td>\n      <td>15737</td>\n      <td>ORANG</td>\n      <td>2020</td>\n    </tr>\n    <tr>\n      <th>9</th>\n      <td>10</td>\n      <td>32</td>\n      <td>JAWA BARAT</td>\n      <td>3210</td>\n      <td>KABUPATEN MAJALENGKA</td>\n      <td>4549</td>\n      <td>ORANG</td>\n      <td>2020</td>\n    </tr>\n    <tr>\n      <th>10</th>\n      <td>11</td>\n      <td>32</td>\n      <td>JAWA BARAT</td>\n      <td>3211</td>\n      <td>KABUPATEN SUMEDANG</td>\n      <td>5784</td>\n      <td>ORANG</td>\n      <td>2020</td>\n    </tr>\n    <tr>\n      <th>11</th>\n      <td>12</td>\n      <td>32</td>\n      <td>JAWA BARAT</td>\n      <td>3212</td>\n      <td>KABUPATEN INDRAMAYU</td>\n      <td>5218</td>\n      <td>ORANG</td>\n      <td>2020</td>\n    </tr>\n    <tr>\n      <th>12</th>\n      <td>13</td>\n      <td>32</td>\n      <td>JAWA BARAT</td>\n      <td>3213</td>\n      <td>KABUPATEN SUBANG</td>\n      <td>2977</td>\n      <td>ORANG</td>\n      <td>2020</td>\n    </tr>\n    <tr>\n      <th>13</th>\n      <td>14</td>\n      <td>32</td>\n      <td>JAWA BARAT</td>\n      <td>3214</td>\n      <td>KABUPATEN PURWAKARTA</td>\n      <td>2648</td>\n      <td>ORANG</td>\n      <td>2020</td>\n    </tr>\n    <tr>\n      <th>14</th>\n      <td>15</td>\n      <td>32</td>\n      <td>JAWA BARAT</td>\n      <td>3215</td>\n      <td>KABUPATEN KARAWANG</td>\n      <td>4647</td>\n      <td>ORANG</td>\n      <td>2020</td>\n    </tr>\n    <tr>\n      <th>15</th>\n      <td>16</td>\n      <td>32</td>\n      <td>JAWA BARAT</td>\n      <td>3216</td>\n      <td>KABUPATEN BEKASI</td>\n      <td>6723</td>\n      <td>ORANG</td>\n      <td>2020</td>\n    </tr>\n    <tr>\n      <th>16</th>\n      <td>17</td>\n      <td>32</td>\n      <td>JAWA BARAT</td>\n      <td>3217</td>\n      <td>KABUPATEN BANDUNG BARAT</td>\n      <td>6130</td>\n      <td>ORANG</td>\n      <td>2020</td>\n    </tr>\n    <tr>\n      <th>17</th>\n      <td>18</td>\n      <td>32</td>\n      <td>JAWA BARAT</td>\n      <td>3218</td>\n      <td>KABUPATEN PANGANDARAN</td>\n      <td>161</td>\n      <td>ORANG</td>\n      <td>2020</td>\n    </tr>\n    <tr>\n      <th>18</th>\n      <td>19</td>\n      <td>32</td>\n      <td>JAWA BARAT</td>\n      <td>3271</td>\n      <td>KOTA BOGOR</td>\n      <td>2915</td>\n      <td>ORANG</td>\n      <td>2020</td>\n    </tr>\n    <tr>\n      <th>19</th>\n      <td>20</td>\n      <td>32</td>\n      <td>JAWA BARAT</td>\n      <td>3272</td>\n      <td>KOTA SUKABUMI</td>\n      <td>1333</td>\n      <td>ORANG</td>\n      <td>2020</td>\n    </tr>\n    <tr>\n      <th>20</th>\n      <td>21</td>\n      <td>32</td>\n      <td>JAWA BARAT</td>\n      <td>3273</td>\n      <td>KOTA BANDUNG</td>\n      <td>7910</td>\n      <td>ORANG</td>\n      <td>2020</td>\n    </tr>\n    <tr>\n      <th>21</th>\n      <td>22</td>\n      <td>32</td>\n      <td>JAWA BARAT</td>\n      <td>3274</td>\n      <td>KOTA CIREBON</td>\n      <td>2149</td>\n      <td>ORANG</td>\n      <td>2020</td>\n    </tr>\n    <tr>\n      <th>22</th>\n      <td>23</td>\n      <td>32</td>\n      <td>JAWA BARAT</td>\n      <td>3275</td>\n      <td>KOTA BEKASI</td>\n      <td>8228</td>\n      <td>ORANG</td>\n      <td>2020</td>\n    </tr>\n    <tr>\n      <th>23</th>\n      <td>24</td>\n      <td>32</td>\n      <td>JAWA BARAT</td>\n      <td>3276</td>\n      <td>KOTA DEPOK</td>\n      <td>5948</td>\n      <td>ORANG</td>\n      <td>2020</td>\n    </tr>\n    <tr>\n      <th>24</th>\n      <td>25</td>\n      <td>32</td>\n      <td>JAWA BARAT</td>\n      <td>3277</td>\n      <td>KOTA CIMAHI</td>\n      <td>2491</td>\n      <td>ORANG</td>\n      <td>2020</td>\n    </tr>\n    <tr>\n      <th>25</th>\n      <td>26</td>\n      <td>32</td>\n      <td>JAWA BARAT</td>\n      <td>3278</td>\n      <td>KOTA TASIKMALAYA</td>\n      <td>3738</td>\n      <td>ORANG</td>\n      <td>2020</td>\n    </tr>\n    <tr>\n      <th>26</th>\n      <td>27</td>\n      <td>32</td>\n      <td>JAWA BARAT</td>\n      <td>3279</td>\n      <td>KOTA BANJAR</td>\n      <td>1086</td>\n      <td>ORANG</td>\n      <td>2020</td>\n    </tr>\n    <tr>\n      <th>27</th>\n      <td>28</td>\n      <td>32</td>\n      <td>JAWA BARAT</td>\n      <td>3201</td>\n      <td>KABUPATEN BOGOR</td>\n      <td>16821</td>\n      <td>ORANG</td>\n      <td>2021</td>\n    </tr>\n    <tr>\n      <th>28</th>\n      <td>29</td>\n      <td>32</td>\n      <td>JAWA BARAT</td>\n      <td>3202</td>\n      <td>KABUPATEN SUKABUMI</td>\n      <td>6099</td>\n      <td>ORANG</td>\n      <td>2021</td>\n    </tr>\n    <tr>\n      <th>29</th>\n      <td>30</td>\n      <td>32</td>\n      <td>JAWA BARAT</td>\n      <td>3203</td>\n      <td>KABUPATEN CIANJUR</td>\n      <td>5788</td>\n      <td>ORANG</td>\n      <td>2021</td>\n    </tr>\n    <tr>\n      <th>30</th>\n      <td>31</td>\n      <td>32</td>\n      <td>JAWA BARAT</td>\n      <td>3204</td>\n      <td>KABUPATEN BANDUNG</td>\n      <td>8809</td>\n      <td>ORANG</td>\n      <td>2021</td>\n    </tr>\n    <tr>\n      <th>31</th>\n      <td>32</td>\n      <td>32</td>\n      <td>JAWA BARAT</td>\n      <td>3205</td>\n      <td>KABUPATEN GARUT</td>\n      <td>313</td>\n      <td>ORANG</td>\n      <td>2021</td>\n    </tr>\n    <tr>\n      <th>32</th>\n      <td>33</td>\n      <td>32</td>\n      <td>JAWA BARAT</td>\n      <td>3206</td>\n      <td>KABUPATEN TASIKMALAYA</td>\n      <td>4572</td>\n      <td>ORANG</td>\n      <td>2021</td>\n    </tr>\n    <tr>\n      <th>33</th>\n      <td>34</td>\n      <td>32</td>\n      <td>JAWA BARAT</td>\n      <td>3207</td>\n      <td>KABUPATEN CIAMIS</td>\n      <td>2368</td>\n      <td>ORANG</td>\n      <td>2021</td>\n    </tr>\n    <tr>\n      <th>34</th>\n      <td>35</td>\n      <td>32</td>\n      <td>JAWA BARAT</td>\n      <td>3208</td>\n      <td>KABUPATEN KUNINGAN</td>\n      <td>2461</td>\n      <td>ORANG</td>\n      <td>2021</td>\n    </tr>\n    <tr>\n      <th>35</th>\n      <td>36</td>\n      <td>32</td>\n      <td>JAWA BARAT</td>\n      <td>3209</td>\n      <td>KABUPATEN CIREBON</td>\n      <td>13385</td>\n      <td>ORANG</td>\n      <td>2021</td>\n    </tr>\n    <tr>\n      <th>36</th>\n      <td>37</td>\n      <td>32</td>\n      <td>JAWA BARAT</td>\n      <td>3210</td>\n      <td>KABUPATEN MAJALENGKA</td>\n      <td>3705</td>\n      <td>ORANG</td>\n      <td>2021</td>\n    </tr>\n    <tr>\n      <th>37</th>\n      <td>38</td>\n      <td>32</td>\n      <td>JAWA BARAT</td>\n      <td>3211</td>\n      <td>KABUPATEN SUMEDANG</td>\n      <td>2382</td>\n      <td>ORANG</td>\n      <td>2021</td>\n    </tr>\n    <tr>\n      <th>38</th>\n      <td>39</td>\n      <td>32</td>\n      <td>JAWA BARAT</td>\n      <td>3212</td>\n      <td>KABUPATEN INDRAMAYU</td>\n      <td>5586</td>\n      <td>ORANG</td>\n      <td>2021</td>\n    </tr>\n    <tr>\n      <th>39</th>\n      <td>40</td>\n      <td>32</td>\n      <td>JAWA BARAT</td>\n      <td>3213</td>\n      <td>KABUPATEN SUBANG</td>\n      <td>2736</td>\n      <td>ORANG</td>\n      <td>2021</td>\n    </tr>\n    <tr>\n      <th>40</th>\n      <td>41</td>\n      <td>32</td>\n      <td>JAWA BARAT</td>\n      <td>3214</td>\n      <td>KABUPATEN PURWAKARTA</td>\n      <td>922</td>\n      <td>ORANG</td>\n      <td>2021</td>\n    </tr>\n    <tr>\n      <th>41</th>\n      <td>42</td>\n      <td>32</td>\n      <td>JAWA BARAT</td>\n      <td>3215</td>\n      <td>KABUPATEN KARAWANG</td>\n      <td>2914</td>\n      <td>ORANG</td>\n      <td>2021</td>\n    </tr>\n    <tr>\n      <th>42</th>\n      <td>43</td>\n      <td>32</td>\n      <td>JAWA BARAT</td>\n      <td>3216</td>\n      <td>KABUPATEN BEKASI</td>\n      <td>15485</td>\n      <td>ORANG</td>\n      <td>2021</td>\n    </tr>\n    <tr>\n      <th>43</th>\n      <td>44</td>\n      <td>32</td>\n      <td>JAWA BARAT</td>\n      <td>3217</td>\n      <td>KABUPATEN BANDUNG BARAT</td>\n      <td>5210</td>\n      <td>ORANG</td>\n      <td>2021</td>\n    </tr>\n    <tr>\n      <th>44</th>\n      <td>45</td>\n      <td>32</td>\n      <td>JAWA BARAT</td>\n      <td>3218</td>\n      <td>KABUPATEN PANGANDARAN</td>\n      <td>347</td>\n      <td>ORANG</td>\n      <td>2021</td>\n    </tr>\n    <tr>\n      <th>45</th>\n      <td>46</td>\n      <td>32</td>\n      <td>JAWA BARAT</td>\n      <td>3271</td>\n      <td>KOTA BOGOR</td>\n      <td>2990</td>\n      <td>ORANG</td>\n      <td>2021</td>\n    </tr>\n    <tr>\n      <th>46</th>\n      <td>47</td>\n      <td>32</td>\n      <td>JAWA BARAT</td>\n      <td>3272</td>\n      <td>KOTA SUKABUMI</td>\n      <td>621</td>\n      <td>ORANG</td>\n      <td>2021</td>\n    </tr>\n    <tr>\n      <th>47</th>\n      <td>48</td>\n      <td>32</td>\n      <td>JAWA BARAT</td>\n      <td>3273</td>\n      <td>KOTA BANDUNG</td>\n      <td>4996</td>\n      <td>ORANG</td>\n      <td>2021</td>\n    </tr>\n    <tr>\n      <th>48</th>\n      <td>49</td>\n      <td>32</td>\n      <td>JAWA BARAT</td>\n      <td>3274</td>\n      <td>KOTA CIREBON</td>\n      <td>2394</td>\n      <td>ORANG</td>\n      <td>2021</td>\n    </tr>\n    <tr>\n      <th>49</th>\n      <td>50</td>\n      <td>32</td>\n      <td>JAWA BARAT</td>\n      <td>3275</td>\n      <td>KOTA BEKASI</td>\n      <td>5662</td>\n      <td>ORANG</td>\n      <td>2021</td>\n    </tr>\n    <tr>\n      <th>50</th>\n      <td>51</td>\n      <td>32</td>\n      <td>JAWA BARAT</td>\n      <td>3276</td>\n      <td>KOTA DEPOK</td>\n      <td>2397</td>\n      <td>ORANG</td>\n      <td>2021</td>\n    </tr>\n    <tr>\n      <th>51</th>\n      <td>52</td>\n      <td>32</td>\n      <td>JAWA BARAT</td>\n      <td>3277</td>\n      <td>KOTA CIMAHI</td>\n      <td>1221</td>\n      <td>ORANG</td>\n      <td>2021</td>\n    </tr>\n    <tr>\n      <th>52</th>\n      <td>53</td>\n      <td>32</td>\n      <td>JAWA BARAT</td>\n      <td>3278</td>\n      <td>KOTA TASIKMALAYA</td>\n      <td>3766</td>\n      <td>ORANG</td>\n      <td>2021</td>\n    </tr>\n    <tr>\n      <th>53</th>\n      <td>54</td>\n      <td>32</td>\n      <td>JAWA BARAT</td>\n      <td>3279</td>\n      <td>KOTA BANJAR</td>\n      <td>603</td>\n      <td>ORANG</td>\n      <td>2021</td>\n    </tr>\n  </tbody>\n</table>\n</div>"
     },
     "execution_count": 7,
     "metadata": {},
     "output_type": "execute_result"
    }
   ],
   "source": [
    "toddler_undernourished = pd.read_csv(\"Raw Data/toddler_undernourished.csv\")\n",
    "toddler_undernourished"
   ],
   "metadata": {
    "collapsed": false,
    "pycharm": {
     "name": "#%%\n"
    }
   }
  },
  {
   "cell_type": "code",
   "execution_count": 8,
   "outputs": [
    {
     "data": {
      "text/plain": "    id  kode_provinsi nama_provinsi  kode_kabupaten_kota nama_kabupaten_kota  \\\n0    1             32    JAWA BARAT                 3201     KABUPATEN BOGOR   \n1    2             32    JAWA BARAT                 3202  KABUPATEN SUKABUMI   \n2    3             32    JAWA BARAT                 3203   KABUPATEN CIANJUR   \n3    4             32    JAWA BARAT                 3204   KABUPATEN BANDUNG   \n4    5             32    JAWA BARAT                 3205     KABUPATEN GARUT   \n..  ..            ...           ...                  ...                 ...   \n76  77             32    JAWA BARAT                 3275         KOTA BEKASI   \n77  78             32    JAWA BARAT                 3276          KOTA DEPOK   \n78  79             32    JAWA BARAT                 3277         KOTA CIMAHI   \n79  80             32    JAWA BARAT                 3278    KOTA TASIKMALAYA   \n80  81             32    JAWA BARAT                 3279         KOTA BANJAR   \n\n    jumlah_bayi satuan  tahun  \n0            98  ORANG   2016  \n1           186  ORANG   2016  \n2           323  ORANG   2016  \n3            66  ORANG   2016  \n4           143  ORANG   2016  \n..          ...    ...    ...  \n76          209  ORANG   2018  \n77           76  ORANG   2018  \n78           31  ORANG   2018  \n79            0  ORANG   2018  \n80            0  ORANG   2018  \n\n[81 rows x 8 columns]",
      "text/html": "<div>\n<style scoped>\n    .dataframe tbody tr th:only-of-type {\n        vertical-align: middle;\n    }\n\n    .dataframe tbody tr th {\n        vertical-align: top;\n    }\n\n    .dataframe thead th {\n        text-align: right;\n    }\n</style>\n<table border=\"1\" class=\"dataframe\">\n  <thead>\n    <tr style=\"text-align: right;\">\n      <th></th>\n      <th>id</th>\n      <th>kode_provinsi</th>\n      <th>nama_provinsi</th>\n      <th>kode_kabupaten_kota</th>\n      <th>nama_kabupaten_kota</th>\n      <th>jumlah_bayi</th>\n      <th>satuan</th>\n      <th>tahun</th>\n    </tr>\n  </thead>\n  <tbody>\n    <tr>\n      <th>0</th>\n      <td>1</td>\n      <td>32</td>\n      <td>JAWA BARAT</td>\n      <td>3201</td>\n      <td>KABUPATEN BOGOR</td>\n      <td>98</td>\n      <td>ORANG</td>\n      <td>2016</td>\n    </tr>\n    <tr>\n      <th>1</th>\n      <td>2</td>\n      <td>32</td>\n      <td>JAWA BARAT</td>\n      <td>3202</td>\n      <td>KABUPATEN SUKABUMI</td>\n      <td>186</td>\n      <td>ORANG</td>\n      <td>2016</td>\n    </tr>\n    <tr>\n      <th>2</th>\n      <td>3</td>\n      <td>32</td>\n      <td>JAWA BARAT</td>\n      <td>3203</td>\n      <td>KABUPATEN CIANJUR</td>\n      <td>323</td>\n      <td>ORANG</td>\n      <td>2016</td>\n    </tr>\n    <tr>\n      <th>3</th>\n      <td>4</td>\n      <td>32</td>\n      <td>JAWA BARAT</td>\n      <td>3204</td>\n      <td>KABUPATEN BANDUNG</td>\n      <td>66</td>\n      <td>ORANG</td>\n      <td>2016</td>\n    </tr>\n    <tr>\n      <th>4</th>\n      <td>5</td>\n      <td>32</td>\n      <td>JAWA BARAT</td>\n      <td>3205</td>\n      <td>KABUPATEN GARUT</td>\n      <td>143</td>\n      <td>ORANG</td>\n      <td>2016</td>\n    </tr>\n    <tr>\n      <th>...</th>\n      <td>...</td>\n      <td>...</td>\n      <td>...</td>\n      <td>...</td>\n      <td>...</td>\n      <td>...</td>\n      <td>...</td>\n      <td>...</td>\n    </tr>\n    <tr>\n      <th>76</th>\n      <td>77</td>\n      <td>32</td>\n      <td>JAWA BARAT</td>\n      <td>3275</td>\n      <td>KOTA BEKASI</td>\n      <td>209</td>\n      <td>ORANG</td>\n      <td>2018</td>\n    </tr>\n    <tr>\n      <th>77</th>\n      <td>78</td>\n      <td>32</td>\n      <td>JAWA BARAT</td>\n      <td>3276</td>\n      <td>KOTA DEPOK</td>\n      <td>76</td>\n      <td>ORANG</td>\n      <td>2018</td>\n    </tr>\n    <tr>\n      <th>78</th>\n      <td>79</td>\n      <td>32</td>\n      <td>JAWA BARAT</td>\n      <td>3277</td>\n      <td>KOTA CIMAHI</td>\n      <td>31</td>\n      <td>ORANG</td>\n      <td>2018</td>\n    </tr>\n    <tr>\n      <th>79</th>\n      <td>80</td>\n      <td>32</td>\n      <td>JAWA BARAT</td>\n      <td>3278</td>\n      <td>KOTA TASIKMALAYA</td>\n      <td>0</td>\n      <td>ORANG</td>\n      <td>2018</td>\n    </tr>\n    <tr>\n      <th>80</th>\n      <td>81</td>\n      <td>32</td>\n      <td>JAWA BARAT</td>\n      <td>3279</td>\n      <td>KOTA BANJAR</td>\n      <td>0</td>\n      <td>ORANG</td>\n      <td>2018</td>\n    </tr>\n  </tbody>\n</table>\n<p>81 rows × 8 columns</p>\n</div>"
     },
     "execution_count": 8,
     "metadata": {},
     "output_type": "execute_result"
    }
   ],
   "source": [
    "baby_malnourished = pd.read_csv(\"Raw Data/baby_undernourished.csv\")\n",
    "baby_malnourished"
   ],
   "metadata": {
    "collapsed": false,
    "pycharm": {
     "name": "#%%\n"
    }
   }
  },
  {
   "cell_type": "code",
   "execution_count": 9,
   "outputs": [],
   "source": [
    "# kekerasan = pd.read_csv(\"Clean Data/abuseCase.csv\")\n",
    "# kekerasan\n",
    "baby_malnourished.drop(columns=['id','kode_provinsi','nama_provinsi','nama_kabupaten_kota','satuan'], inplace=True)"
   ],
   "metadata": {
    "collapsed": false,
    "pycharm": {
     "name": "#%%\n"
    }
   }
  },
  {
   "cell_type": "code",
   "execution_count": 10,
   "outputs": [],
   "source": [
    "toddler_undernourished.drop(columns=['id','kode_provinsi','nama_provinsi','nama_kabupaten_kota','satuan'], inplace=True)"
   ],
   "metadata": {
    "collapsed": false,
    "pycharm": {
     "name": "#%%\n"
    }
   }
  },
  {
   "cell_type": "code",
   "execution_count": 11,
   "outputs": [],
   "source": [
    "join1 = pd.merge(city_health_index, baby_malnourished, how='left', left_on=['tahun','kode_kabupaten_kota'], right_on= ['tahun','kode_kabupaten_kota'])"
   ],
   "metadata": {
    "collapsed": false,
    "pycharm": {
     "name": "#%%\n"
    }
   }
  },
  {
   "cell_type": "code",
   "execution_count": 12,
   "outputs": [],
   "source": [
    "join2 = pd.merge(join1, toddler_undernourished, how='left', left_on=['tahun','kode_kabupaten_kota'], right_on= ['tahun','kode_kabupaten_kota'])"
   ],
   "metadata": {
    "collapsed": false,
    "pycharm": {
     "name": "#%%\n"
    }
   }
  },
  {
   "cell_type": "code",
   "execution_count": 13,
   "outputs": [],
   "source": [
    "join2.rename(columns={\"jumlah_bayi\" : \"jumlah_bayi_gizi_buruk\", \"jumlah_balita\":\"jumlah_balita_kurang_gizi\"},inplace=True)"
   ],
   "metadata": {
    "collapsed": false,
    "pycharm": {
     "name": "#%%\n"
    }
   }
  },
  {
   "cell_type": "code",
   "execution_count": 14,
   "outputs": [],
   "source": [
    "join3 = pd.merge(join2, city_people_health_complain, how='left', left_on=['tahun','kode_kabupaten_kota'], right_on= ['tahun','kode_kabupaten_kota'])"
   ],
   "metadata": {
    "collapsed": false,
    "pycharm": {
     "name": "#%%\n"
    }
   }
  },
  {
   "cell_type": "code",
   "execution_count": 15,
   "outputs": [],
   "source": [
    "join3.rename(columns = {'persentase_penduduk':'persentase_penduduk_komplain'}, inplace = True)"
   ],
   "metadata": {
    "collapsed": false,
    "pycharm": {
     "name": "#%%\n"
    }
   }
  },
  {
   "cell_type": "code",
   "execution_count": 16,
   "outputs": [],
   "source": [
    "join3.drop(columns=[\"id\", \"satuan\"], inplace=True)"
   ],
   "metadata": {
    "collapsed": false,
    "pycharm": {
     "name": "#%%\n"
    }
   }
  },
  {
   "cell_type": "code",
   "execution_count": 17,
   "outputs": [],
   "source": [
    "join4 = pd.merge(join3, data_ims, how='left', left_on=['tahun','kode_kabupaten_kota'], right_on= ['tahun','kode_kabupaten_kota'])"
   ],
   "metadata": {
    "collapsed": false,
    "pycharm": {
     "name": "#%%\n"
    }
   }
  },
  {
   "cell_type": "code",
   "execution_count": 18,
   "outputs": [
    {
     "data": {
      "text/plain": "     kode_provinsi nama_provinsi  kode_kabupaten_kota nama_kabupaten_kota  \\\n0               32    JAWA BARAT                 3201     KABUPATEN BOGOR   \n1               32    JAWA BARAT                 3202  KABUPATEN SUKABUMI   \n2               32    JAWA BARAT                 3203   KABUPATEN CIANJUR   \n3               32    JAWA BARAT                 3204   KABUPATEN BANDUNG   \n4               32    JAWA BARAT                 3205     KABUPATEN GARUT   \n..             ...           ...                  ...                 ...   \n318             32    JAWA BARAT                 3274        KOTA CIREBON   \n319             32    JAWA BARAT                 3275         KOTA BEKASI   \n320             32    JAWA BARAT                 3276          KOTA DEPOK   \n321             32    JAWA BARAT                 3277         KOTA CIMAHI   \n322             32    JAWA BARAT                 3278    KOTA TASIKMALAYA   \n\n     indeks_kesehatan  tahun  jumlah_bayi_gizi_buruk  \\\n0               77.43   2010                     NaN   \n1               76.10   2010                     NaN   \n2               75.02   2010                     NaN   \n3               81.44   2010                     NaN   \n4               77.44   2010                     NaN   \n..                ...    ...                     ...   \n318             80.68   2021                     NaN   \n319             84.91   2021                     NaN   \n320             84.03   2021                     NaN   \n321             83.40   2021                     NaN   \n322             80.52   2021                     NaN   \n\n     jumlah_balita_kurang_gizi  persentase_penduduk_komplain  jumlah_kasus  \n0                          NaN                           NaN           NaN  \n1                          NaN                           NaN           NaN  \n2                          NaN                           NaN           NaN  \n3                          NaN                           NaN           NaN  \n4                          NaN                           NaN           NaN  \n..                         ...                           ...           ...  \n318                     2394.0                         19.29         126.0  \n319                     5662.0                         25.46         700.0  \n320                     2397.0                         15.49          54.0  \n321                     1221.0                         16.23         509.0  \n322                     3766.0                         18.37          45.0  \n\n[323 rows x 10 columns]",
      "text/html": "<div>\n<style scoped>\n    .dataframe tbody tr th:only-of-type {\n        vertical-align: middle;\n    }\n\n    .dataframe tbody tr th {\n        vertical-align: top;\n    }\n\n    .dataframe thead th {\n        text-align: right;\n    }\n</style>\n<table border=\"1\" class=\"dataframe\">\n  <thead>\n    <tr style=\"text-align: right;\">\n      <th></th>\n      <th>kode_provinsi</th>\n      <th>nama_provinsi</th>\n      <th>kode_kabupaten_kota</th>\n      <th>nama_kabupaten_kota</th>\n      <th>indeks_kesehatan</th>\n      <th>tahun</th>\n      <th>jumlah_bayi_gizi_buruk</th>\n      <th>jumlah_balita_kurang_gizi</th>\n      <th>persentase_penduduk_komplain</th>\n      <th>jumlah_kasus</th>\n    </tr>\n  </thead>\n  <tbody>\n    <tr>\n      <th>0</th>\n      <td>32</td>\n      <td>JAWA BARAT</td>\n      <td>3201</td>\n      <td>KABUPATEN BOGOR</td>\n      <td>77.43</td>\n      <td>2010</td>\n      <td>NaN</td>\n      <td>NaN</td>\n      <td>NaN</td>\n      <td>NaN</td>\n    </tr>\n    <tr>\n      <th>1</th>\n      <td>32</td>\n      <td>JAWA BARAT</td>\n      <td>3202</td>\n      <td>KABUPATEN SUKABUMI</td>\n      <td>76.10</td>\n      <td>2010</td>\n      <td>NaN</td>\n      <td>NaN</td>\n      <td>NaN</td>\n      <td>NaN</td>\n    </tr>\n    <tr>\n      <th>2</th>\n      <td>32</td>\n      <td>JAWA BARAT</td>\n      <td>3203</td>\n      <td>KABUPATEN CIANJUR</td>\n      <td>75.02</td>\n      <td>2010</td>\n      <td>NaN</td>\n      <td>NaN</td>\n      <td>NaN</td>\n      <td>NaN</td>\n    </tr>\n    <tr>\n      <th>3</th>\n      <td>32</td>\n      <td>JAWA BARAT</td>\n      <td>3204</td>\n      <td>KABUPATEN BANDUNG</td>\n      <td>81.44</td>\n      <td>2010</td>\n      <td>NaN</td>\n      <td>NaN</td>\n      <td>NaN</td>\n      <td>NaN</td>\n    </tr>\n    <tr>\n      <th>4</th>\n      <td>32</td>\n      <td>JAWA BARAT</td>\n      <td>3205</td>\n      <td>KABUPATEN GARUT</td>\n      <td>77.44</td>\n      <td>2010</td>\n      <td>NaN</td>\n      <td>NaN</td>\n      <td>NaN</td>\n      <td>NaN</td>\n    </tr>\n    <tr>\n      <th>...</th>\n      <td>...</td>\n      <td>...</td>\n      <td>...</td>\n      <td>...</td>\n      <td>...</td>\n      <td>...</td>\n      <td>...</td>\n      <td>...</td>\n      <td>...</td>\n      <td>...</td>\n    </tr>\n    <tr>\n      <th>318</th>\n      <td>32</td>\n      <td>JAWA BARAT</td>\n      <td>3274</td>\n      <td>KOTA CIREBON</td>\n      <td>80.68</td>\n      <td>2021</td>\n      <td>NaN</td>\n      <td>2394.0</td>\n      <td>19.29</td>\n      <td>126.0</td>\n    </tr>\n    <tr>\n      <th>319</th>\n      <td>32</td>\n      <td>JAWA BARAT</td>\n      <td>3275</td>\n      <td>KOTA BEKASI</td>\n      <td>84.91</td>\n      <td>2021</td>\n      <td>NaN</td>\n      <td>5662.0</td>\n      <td>25.46</td>\n      <td>700.0</td>\n    </tr>\n    <tr>\n      <th>320</th>\n      <td>32</td>\n      <td>JAWA BARAT</td>\n      <td>3276</td>\n      <td>KOTA DEPOK</td>\n      <td>84.03</td>\n      <td>2021</td>\n      <td>NaN</td>\n      <td>2397.0</td>\n      <td>15.49</td>\n      <td>54.0</td>\n    </tr>\n    <tr>\n      <th>321</th>\n      <td>32</td>\n      <td>JAWA BARAT</td>\n      <td>3277</td>\n      <td>KOTA CIMAHI</td>\n      <td>83.40</td>\n      <td>2021</td>\n      <td>NaN</td>\n      <td>1221.0</td>\n      <td>16.23</td>\n      <td>509.0</td>\n    </tr>\n    <tr>\n      <th>322</th>\n      <td>32</td>\n      <td>JAWA BARAT</td>\n      <td>3278</td>\n      <td>KOTA TASIKMALAYA</td>\n      <td>80.52</td>\n      <td>2021</td>\n      <td>NaN</td>\n      <td>3766.0</td>\n      <td>18.37</td>\n      <td>45.0</td>\n    </tr>\n  </tbody>\n</table>\n<p>323 rows × 10 columns</p>\n</div>"
     },
     "execution_count": 18,
     "metadata": {},
     "output_type": "execute_result"
    }
   ],
   "source": [
    "join4"
   ],
   "metadata": {
    "collapsed": false,
    "pycharm": {
     "name": "#%%\n"
    }
   }
  },
  {
   "cell_type": "code",
   "execution_count": 19,
   "outputs": [],
   "source": [
    "join4[\"jumlah_kasus\"] = round((join4[\"jumlah_kasus\"] / join4[\"jumlah_kasus\"].sum())*100, 3) # 49935858 is population of jabar 2020"
   ],
   "metadata": {
    "collapsed": false,
    "pycharm": {
     "name": "#%%\n"
    }
   }
  },
  {
   "cell_type": "code",
   "execution_count": 20,
   "outputs": [],
   "source": [
    "join4.rename(columns = {'jumlah_kasus':'persentase_kasus_ims'}, inplace = True)"
   ],
   "metadata": {
    "collapsed": false,
    "pycharm": {
     "name": "#%%\n"
    }
   }
  },
  {
   "cell_type": "code",
   "execution_count": 21,
   "outputs": [
    {
     "data": {
      "text/plain": "     kode_provinsi nama_provinsi  kode_kabupaten_kota nama_kabupaten_kota  \\\n0               32    JAWA BARAT                 3201     KABUPATEN BOGOR   \n1               32    JAWA BARAT                 3202  KABUPATEN SUKABUMI   \n2               32    JAWA BARAT                 3203   KABUPATEN CIANJUR   \n3               32    JAWA BARAT                 3204   KABUPATEN BANDUNG   \n4               32    JAWA BARAT                 3205     KABUPATEN GARUT   \n..             ...           ...                  ...                 ...   \n318             32    JAWA BARAT                 3274        KOTA CIREBON   \n319             32    JAWA BARAT                 3275         KOTA BEKASI   \n320             32    JAWA BARAT                 3276          KOTA DEPOK   \n321             32    JAWA BARAT                 3277         KOTA CIMAHI   \n322             32    JAWA BARAT                 3278    KOTA TASIKMALAYA   \n\n     indeks_kesehatan  tahun  jumlah_bayi_gizi_buruk  \\\n0               77.43   2010                     NaN   \n1               76.10   2010                     NaN   \n2               75.02   2010                     NaN   \n3               81.44   2010                     NaN   \n4               77.44   2010                     NaN   \n..                ...    ...                     ...   \n318             80.68   2021                     NaN   \n319             84.91   2021                     NaN   \n320             84.03   2021                     NaN   \n321             83.40   2021                     NaN   \n322             80.52   2021                     NaN   \n\n     jumlah_balita_kurang_gizi  persentase_penduduk_komplain  \\\n0                          NaN                           NaN   \n1                          NaN                           NaN   \n2                          NaN                           NaN   \n3                          NaN                           NaN   \n4                          NaN                           NaN   \n..                         ...                           ...   \n318                     2394.0                         19.29   \n319                     5662.0                         25.46   \n320                     2397.0                         15.49   \n321                     1221.0                         16.23   \n322                     3766.0                         18.37   \n\n     persentase_kasus_ims  \n0                     NaN  \n1                     NaN  \n2                     NaN  \n3                     NaN  \n4                     NaN  \n..                    ...  \n318                 0.359  \n319                 1.994  \n320                 0.154  \n321                 1.450  \n322                 0.128  \n\n[323 rows x 10 columns]",
      "text/html": "<div>\n<style scoped>\n    .dataframe tbody tr th:only-of-type {\n        vertical-align: middle;\n    }\n\n    .dataframe tbody tr th {\n        vertical-align: top;\n    }\n\n    .dataframe thead th {\n        text-align: right;\n    }\n</style>\n<table border=\"1\" class=\"dataframe\">\n  <thead>\n    <tr style=\"text-align: right;\">\n      <th></th>\n      <th>kode_provinsi</th>\n      <th>nama_provinsi</th>\n      <th>kode_kabupaten_kota</th>\n      <th>nama_kabupaten_kota</th>\n      <th>indeks_kesehatan</th>\n      <th>tahun</th>\n      <th>jumlah_bayi_gizi_buruk</th>\n      <th>jumlah_balita_kurang_gizi</th>\n      <th>persentase_penduduk_komplain</th>\n      <th>persentase_kasus_ims</th>\n    </tr>\n  </thead>\n  <tbody>\n    <tr>\n      <th>0</th>\n      <td>32</td>\n      <td>JAWA BARAT</td>\n      <td>3201</td>\n      <td>KABUPATEN BOGOR</td>\n      <td>77.43</td>\n      <td>2010</td>\n      <td>NaN</td>\n      <td>NaN</td>\n      <td>NaN</td>\n      <td>NaN</td>\n    </tr>\n    <tr>\n      <th>1</th>\n      <td>32</td>\n      <td>JAWA BARAT</td>\n      <td>3202</td>\n      <td>KABUPATEN SUKABUMI</td>\n      <td>76.10</td>\n      <td>2010</td>\n      <td>NaN</td>\n      <td>NaN</td>\n      <td>NaN</td>\n      <td>NaN</td>\n    </tr>\n    <tr>\n      <th>2</th>\n      <td>32</td>\n      <td>JAWA BARAT</td>\n      <td>3203</td>\n      <td>KABUPATEN CIANJUR</td>\n      <td>75.02</td>\n      <td>2010</td>\n      <td>NaN</td>\n      <td>NaN</td>\n      <td>NaN</td>\n      <td>NaN</td>\n    </tr>\n    <tr>\n      <th>3</th>\n      <td>32</td>\n      <td>JAWA BARAT</td>\n      <td>3204</td>\n      <td>KABUPATEN BANDUNG</td>\n      <td>81.44</td>\n      <td>2010</td>\n      <td>NaN</td>\n      <td>NaN</td>\n      <td>NaN</td>\n      <td>NaN</td>\n    </tr>\n    <tr>\n      <th>4</th>\n      <td>32</td>\n      <td>JAWA BARAT</td>\n      <td>3205</td>\n      <td>KABUPATEN GARUT</td>\n      <td>77.44</td>\n      <td>2010</td>\n      <td>NaN</td>\n      <td>NaN</td>\n      <td>NaN</td>\n      <td>NaN</td>\n    </tr>\n    <tr>\n      <th>...</th>\n      <td>...</td>\n      <td>...</td>\n      <td>...</td>\n      <td>...</td>\n      <td>...</td>\n      <td>...</td>\n      <td>...</td>\n      <td>...</td>\n      <td>...</td>\n      <td>...</td>\n    </tr>\n    <tr>\n      <th>318</th>\n      <td>32</td>\n      <td>JAWA BARAT</td>\n      <td>3274</td>\n      <td>KOTA CIREBON</td>\n      <td>80.68</td>\n      <td>2021</td>\n      <td>NaN</td>\n      <td>2394.0</td>\n      <td>19.29</td>\n      <td>0.359</td>\n    </tr>\n    <tr>\n      <th>319</th>\n      <td>32</td>\n      <td>JAWA BARAT</td>\n      <td>3275</td>\n      <td>KOTA BEKASI</td>\n      <td>84.91</td>\n      <td>2021</td>\n      <td>NaN</td>\n      <td>5662.0</td>\n      <td>25.46</td>\n      <td>1.994</td>\n    </tr>\n    <tr>\n      <th>320</th>\n      <td>32</td>\n      <td>JAWA BARAT</td>\n      <td>3276</td>\n      <td>KOTA DEPOK</td>\n      <td>84.03</td>\n      <td>2021</td>\n      <td>NaN</td>\n      <td>2397.0</td>\n      <td>15.49</td>\n      <td>0.154</td>\n    </tr>\n    <tr>\n      <th>321</th>\n      <td>32</td>\n      <td>JAWA BARAT</td>\n      <td>3277</td>\n      <td>KOTA CIMAHI</td>\n      <td>83.40</td>\n      <td>2021</td>\n      <td>NaN</td>\n      <td>1221.0</td>\n      <td>16.23</td>\n      <td>1.450</td>\n    </tr>\n    <tr>\n      <th>322</th>\n      <td>32</td>\n      <td>JAWA BARAT</td>\n      <td>3278</td>\n      <td>KOTA TASIKMALAYA</td>\n      <td>80.52</td>\n      <td>2021</td>\n      <td>NaN</td>\n      <td>3766.0</td>\n      <td>18.37</td>\n      <td>0.128</td>\n    </tr>\n  </tbody>\n</table>\n<p>323 rows × 10 columns</p>\n</div>"
     },
     "execution_count": 21,
     "metadata": {},
     "output_type": "execute_result"
    }
   ],
   "source": [
    "join4"
   ],
   "metadata": {
    "collapsed": false,
    "pycharm": {
     "name": "#%%\n"
    }
   }
  },
  {
   "cell_type": "code",
   "execution_count": 22,
   "outputs": [],
   "source": [
    "join4[\"jumlah_bayi_gizi_buruk\"] = round((join4[\"jumlah_bayi_gizi_buruk\"]/join3[\"jumlah_bayi_gizi_buruk\"].sum())*100, 3)"
   ],
   "metadata": {
    "collapsed": false,
    "pycharm": {
     "name": "#%%\n"
    }
   }
  },
  {
   "cell_type": "code",
   "execution_count": 23,
   "outputs": [],
   "source": [
    "join4[\"jumlah_balita_kurang_gizi\"] = round((join4[\"jumlah_balita_kurang_gizi\"]/join3[\"jumlah_balita_kurang_gizi\"].sum())*100, 3)"
   ],
   "metadata": {
    "collapsed": false,
    "pycharm": {
     "name": "#%%\n"
    }
   }
  },
  {
   "cell_type": "code",
   "execution_count": 24,
   "outputs": [],
   "source": [
    "join4.rename(columns={\"jumlah_bayi_gizi_buruk\" : \"persentase_bayi_gizi_buruk\", \"jumlah_balita_kurang_gizi\" : \"persentase_balita_kurang_gizi\"}, inplace=True)"
   ],
   "metadata": {
    "collapsed": false,
    "pycharm": {
     "name": "#%%\n"
    }
   }
  },
  {
   "cell_type": "code",
   "execution_count": 25,
   "outputs": [
    {
     "data": {
      "text/plain": "     kode_provinsi nama_provinsi  kode_kabupaten_kota nama_kabupaten_kota  \\\n0               32    JAWA BARAT                 3201     KABUPATEN BOGOR   \n1               32    JAWA BARAT                 3202  KABUPATEN SUKABUMI   \n2               32    JAWA BARAT                 3203   KABUPATEN CIANJUR   \n3               32    JAWA BARAT                 3204   KABUPATEN BANDUNG   \n4               32    JAWA BARAT                 3205     KABUPATEN GARUT   \n..             ...           ...                  ...                 ...   \n318             32    JAWA BARAT                 3274        KOTA CIREBON   \n319             32    JAWA BARAT                 3275         KOTA BEKASI   \n320             32    JAWA BARAT                 3276          KOTA DEPOK   \n321             32    JAWA BARAT                 3277         KOTA CIMAHI   \n322             32    JAWA BARAT                 3278    KOTA TASIKMALAYA   \n\n     indeks_kesehatan  tahun  persentase_bayi_gizi_buruk  \\\n0               77.43   2010                         NaN   \n1               76.10   2010                         NaN   \n2               75.02   2010                         NaN   \n3               81.44   2010                         NaN   \n4               77.44   2010                         NaN   \n..                ...    ...                         ...   \n318             80.68   2021                         NaN   \n319             84.91   2021                         NaN   \n320             84.03   2021                         NaN   \n321             83.40   2021                         NaN   \n322             80.52   2021                         NaN   \n\n     persentase_balita_kurang_gizi  persentase_penduduk_komplain  \\\n0                              NaN                           NaN   \n1                              NaN                           NaN   \n2                              NaN                           NaN   \n3                              NaN                           NaN   \n4                              NaN                           NaN   \n..                             ...                           ...   \n318                          0.812                         19.29   \n319                          1.921                         25.46   \n320                          0.813                         15.49   \n321                          0.414                         16.23   \n322                          1.278                         18.37   \n\n     persentase_kasus_ims  \n0                     NaN  \n1                     NaN  \n2                     NaN  \n3                     NaN  \n4                     NaN  \n..                    ...  \n318                 0.359  \n319                 1.994  \n320                 0.154  \n321                 1.450  \n322                 0.128  \n\n[323 rows x 10 columns]",
      "text/html": "<div>\n<style scoped>\n    .dataframe tbody tr th:only-of-type {\n        vertical-align: middle;\n    }\n\n    .dataframe tbody tr th {\n        vertical-align: top;\n    }\n\n    .dataframe thead th {\n        text-align: right;\n    }\n</style>\n<table border=\"1\" class=\"dataframe\">\n  <thead>\n    <tr style=\"text-align: right;\">\n      <th></th>\n      <th>kode_provinsi</th>\n      <th>nama_provinsi</th>\n      <th>kode_kabupaten_kota</th>\n      <th>nama_kabupaten_kota</th>\n      <th>indeks_kesehatan</th>\n      <th>tahun</th>\n      <th>persentase_bayi_gizi_buruk</th>\n      <th>persentase_balita_kurang_gizi</th>\n      <th>persentase_penduduk_komplain</th>\n      <th>persentase_kasus_ims</th>\n    </tr>\n  </thead>\n  <tbody>\n    <tr>\n      <th>0</th>\n      <td>32</td>\n      <td>JAWA BARAT</td>\n      <td>3201</td>\n      <td>KABUPATEN BOGOR</td>\n      <td>77.43</td>\n      <td>2010</td>\n      <td>NaN</td>\n      <td>NaN</td>\n      <td>NaN</td>\n      <td>NaN</td>\n    </tr>\n    <tr>\n      <th>1</th>\n      <td>32</td>\n      <td>JAWA BARAT</td>\n      <td>3202</td>\n      <td>KABUPATEN SUKABUMI</td>\n      <td>76.10</td>\n      <td>2010</td>\n      <td>NaN</td>\n      <td>NaN</td>\n      <td>NaN</td>\n      <td>NaN</td>\n    </tr>\n    <tr>\n      <th>2</th>\n      <td>32</td>\n      <td>JAWA BARAT</td>\n      <td>3203</td>\n      <td>KABUPATEN CIANJUR</td>\n      <td>75.02</td>\n      <td>2010</td>\n      <td>NaN</td>\n      <td>NaN</td>\n      <td>NaN</td>\n      <td>NaN</td>\n    </tr>\n    <tr>\n      <th>3</th>\n      <td>32</td>\n      <td>JAWA BARAT</td>\n      <td>3204</td>\n      <td>KABUPATEN BANDUNG</td>\n      <td>81.44</td>\n      <td>2010</td>\n      <td>NaN</td>\n      <td>NaN</td>\n      <td>NaN</td>\n      <td>NaN</td>\n    </tr>\n    <tr>\n      <th>4</th>\n      <td>32</td>\n      <td>JAWA BARAT</td>\n      <td>3205</td>\n      <td>KABUPATEN GARUT</td>\n      <td>77.44</td>\n      <td>2010</td>\n      <td>NaN</td>\n      <td>NaN</td>\n      <td>NaN</td>\n      <td>NaN</td>\n    </tr>\n    <tr>\n      <th>...</th>\n      <td>...</td>\n      <td>...</td>\n      <td>...</td>\n      <td>...</td>\n      <td>...</td>\n      <td>...</td>\n      <td>...</td>\n      <td>...</td>\n      <td>...</td>\n      <td>...</td>\n    </tr>\n    <tr>\n      <th>318</th>\n      <td>32</td>\n      <td>JAWA BARAT</td>\n      <td>3274</td>\n      <td>KOTA CIREBON</td>\n      <td>80.68</td>\n      <td>2021</td>\n      <td>NaN</td>\n      <td>0.812</td>\n      <td>19.29</td>\n      <td>0.359</td>\n    </tr>\n    <tr>\n      <th>319</th>\n      <td>32</td>\n      <td>JAWA BARAT</td>\n      <td>3275</td>\n      <td>KOTA BEKASI</td>\n      <td>84.91</td>\n      <td>2021</td>\n      <td>NaN</td>\n      <td>1.921</td>\n      <td>25.46</td>\n      <td>1.994</td>\n    </tr>\n    <tr>\n      <th>320</th>\n      <td>32</td>\n      <td>JAWA BARAT</td>\n      <td>3276</td>\n      <td>KOTA DEPOK</td>\n      <td>84.03</td>\n      <td>2021</td>\n      <td>NaN</td>\n      <td>0.813</td>\n      <td>15.49</td>\n      <td>0.154</td>\n    </tr>\n    <tr>\n      <th>321</th>\n      <td>32</td>\n      <td>JAWA BARAT</td>\n      <td>3277</td>\n      <td>KOTA CIMAHI</td>\n      <td>83.40</td>\n      <td>2021</td>\n      <td>NaN</td>\n      <td>0.414</td>\n      <td>16.23</td>\n      <td>1.450</td>\n    </tr>\n    <tr>\n      <th>322</th>\n      <td>32</td>\n      <td>JAWA BARAT</td>\n      <td>3278</td>\n      <td>KOTA TASIKMALAYA</td>\n      <td>80.52</td>\n      <td>2021</td>\n      <td>NaN</td>\n      <td>1.278</td>\n      <td>18.37</td>\n      <td>0.128</td>\n    </tr>\n  </tbody>\n</table>\n<p>323 rows × 10 columns</p>\n</div>"
     },
     "execution_count": 25,
     "metadata": {},
     "output_type": "execute_result"
    }
   ],
   "source": [
    "join4"
   ],
   "metadata": {
    "collapsed": false,
    "pycharm": {
     "name": "#%%\n"
    }
   }
  },
  {
   "cell_type": "code",
   "execution_count": 26,
   "outputs": [],
   "source": [
    "join4.to_csv('Clean Data/homepage.csv',index=False)"
   ],
   "metadata": {
    "collapsed": false,
    "pycharm": {
     "name": "#%%\n"
    }
   }
  },
  {
   "cell_type": "code",
   "execution_count": 27,
   "outputs": [
    {
     "name": "stdout",
     "output_type": "stream",
     "text": [
      "<class 'pandas.core.frame.DataFrame'>\n",
      "RangeIndex: 323 entries, 0 to 322\n",
      "Data columns (total 10 columns):\n",
      " #   Column                         Non-Null Count  Dtype  \n",
      "---  ------                         --------------  -----  \n",
      " 0   kode_provinsi                  323 non-null    int64  \n",
      " 1   nama_provinsi                  323 non-null    object \n",
      " 2   kode_kabupaten_kota            323 non-null    int64  \n",
      " 3   nama_kabupaten_kota            323 non-null    object \n",
      " 4   indeks_kesehatan               323 non-null    float64\n",
      " 5   tahun                          323 non-null    int64  \n",
      " 6   persentase_bayi_gizi_buruk     81 non-null     float64\n",
      " 7   persentase_balita_kurang_gizi  53 non-null     float64\n",
      " 8   persentase_penduduk_komplain   188 non-null    float64\n",
      " 9   persentase_kasus_ims           53 non-null     float64\n",
      "dtypes: float64(5), int64(3), object(2)\n",
      "memory usage: 25.4+ KB\n"
     ]
    }
   ],
   "source": [
    "pd.read_csv(\"Clean Data/homepage.csv\").info()"
   ],
   "metadata": {
    "collapsed": false,
    "pycharm": {
     "name": "#%%\n"
    }
   }
  },
  {
   "cell_type": "code",
   "execution_count": null,
   "outputs": [],
   "source": [
    "\n"
   ],
   "metadata": {
    "collapsed": false,
    "pycharm": {
     "name": "#%%\n"
    }
   }
  }
 ],
 "metadata": {
  "kernelspec": {
   "display_name": "Python 3",
   "language": "python",
   "name": "python3"
  },
  "language_info": {
   "codemirror_mode": {
    "name": "ipython",
    "version": 2
   },
   "file_extension": ".py",
   "mimetype": "text/x-python",
   "name": "python",
   "nbconvert_exporter": "python",
   "pygments_lexer": "ipython2",
   "version": "2.7.6"
  }
 },
 "nbformat": 4,
 "nbformat_minor": 0
}